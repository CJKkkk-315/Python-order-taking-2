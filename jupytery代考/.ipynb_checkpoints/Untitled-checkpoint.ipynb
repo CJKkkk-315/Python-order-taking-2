{
 "cells": [
  {
   "cell_type": "code",
   "execution_count": 1,
   "id": "7666b9fd-eeb3-491b-9415-223b4bc712fc",
   "metadata": {},
   "outputs": [
    {
     "name": "stdout",
     "output_type": "stream",
     "text": [
      "x1=2.00;x2=1.00\n",
      "x1=x2=9.00\n",
      "x1=-1.00+1.22i;x2=-1.00-1.22i\n"
     ]
    }
   ],
   "source": [
    "import math\n",
    "import cmath\n",
    "def function1(a,b,c):\n",
    "    # Calculate the value of delta\n",
    "    delta = b*b - 4*a*c\n",
    "    # if delta == 0,the equation has two identical roots\n",
    "    if abs(delta) == 0:\n",
    "        x1 = -b/(2*a)\n",
    "        print(\"x1=x2={:.2f}\".format(x1))\n",
    "    # if delta > 0,the equation has two different real roots\n",
    "    elif delta > 0:\n",
    "        x1 = (-b + math.sqrt(delta))/(2*a)\n",
    "        x2 = (-b - math.sqrt(delta))/(2*a)\n",
    "        print(\"x1={:.2f};x2={:.2f}\".format(x1,x2))\n",
    "    # if delta < 0,the equation has two different virtual roots\n",
    "    else :\n",
    "        x1 = (-b + cmath.sqrt(delta))/(2*a)\n",
    "        x2 = (-b - cmath.sqrt(delta))/(2*a)\n",
    "        print(\"x1={0.real:.2f}{0.imag:+.2f}i;\".format(x1),end = '')\n",
    "        print(\"x2={0.real:.2f}{0.imag:+.2f}i\".format(x2))\n",
    "function1(1,-3,2)\n",
    "function1(1,-18,81)\n",
    "function1(2,4,5)"
   ]
  },
  {
   "cell_type": "code",
   "execution_count": 2,
   "id": "880dc162-bb37-437a-9001-1ce6d388f653",
   "metadata": {},
   "outputs": [
    {
     "name": "stdout",
     "output_type": "stream",
     "text": [
      "x=-2.0\n",
      "y=3.0\n"
     ]
    }
   ],
   "source": [
    "def function2(a1,b1,c1,a2,b2,c2):\n",
    "    t = a1/a2\n",
    "    a2 *= t\n",
    "    b2 *= t\n",
    "    c2 *= t\n",
    "    y = (c1-c2)/(b1-b2)\n",
    "    x = (c1-y*b1)/a1\n",
    "    print(\"x={}\".format(x))\n",
    "    print(\"y={}\".format(y))\n",
    "function2(3,5,9,1,-2,-8)"
   ]
  },
  {
   "cell_type": "code",
   "execution_count": 3,
   "id": "2e959ee8-e739-4268-8fca-cd0532ab8a6e",
   "metadata": {},
   "outputs": [
    {
     "name": "stdin",
     "output_type": "stream",
     "text": [
      "n = 10\n"
     ]
    },
    {
     "name": "stdout",
     "output_type": "stream",
     "text": [
      "36028797018963968\n"
     ]
    }
   ],
   "source": [
    "def function3(n):\n",
    "    s = 1\n",
    "    for i in range(1,n+1):\n",
    "        s *= 2 ** i\n",
    "    print(s)\n",
    "n = int(input(\"n =\"))\n",
    "function3(n)"
   ]
  },
  {
   "cell_type": "code",
   "execution_count": 4,
   "id": "d699905b-1484-4ee1-8fcf-153d33d65cfe",
   "metadata": {},
   "outputs": [
    {
     "name": "stdin",
     "output_type": "stream",
     "text": [
      "n = 10\n"
     ]
    },
    {
     "name": "stdout",
     "output_type": "stream",
     "text": [
      "0.9990234375\n"
     ]
    }
   ],
   "source": [
    "def function4(n):\n",
    "    t = 2\n",
    "    s = 0\n",
    "    for i in range(n):\n",
    "        s += 1/t\n",
    "        t *= 2\n",
    "    print(s)\n",
    "n = int(input(\"n =\"))\n",
    "function4(n)"
   ]
  }
 ],
 "metadata": {
  "kernelspec": {
   "display_name": "Python 3 (ipykernel)",
   "language": "python",
   "name": "python3"
  },
  "language_info": {
   "codemirror_mode": {
    "name": "ipython",
    "version": 3
   },
   "file_extension": ".py",
   "mimetype": "text/x-python",
   "name": "python",
   "nbconvert_exporter": "python",
   "pygments_lexer": "ipython3",
   "version": "3.9.9"
  }
 },
 "nbformat": 4,
 "nbformat_minor": 5
}
