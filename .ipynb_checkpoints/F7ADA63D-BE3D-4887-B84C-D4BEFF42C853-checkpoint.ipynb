{
 "cells": [
  {
   "cell_type": "markdown",
   "id": "8609e1f4",
   "metadata": {},
   "source": [
    "### Extra credit: Model evaluation using numpy (10 points)"
   ]
  },
  {
   "cell_type": "markdown",
   "id": "62f7914d",
   "metadata": {},
   "source": [
    "Imagine you are building a model where the goal is to predict a binary response variable (0 vs. 1). You have determined that based on business need, the best evaluation metric would be the F1 score, which is a harmonic mean of precision and recall: \n",
    "https://blog.exsilio.com/all/accuracy-precision-recall-f1-score-interpretation-of-performance-measures/\n",
    "Your job is to write a function that would take in two arrays - one is a rank 1 array of predicted probabilities (between 0 and 1) and the other is a 2-dim array of actual/true values of the same length of shape (1, length), and a cutoff, and to compute and return both precision and recall. You cannot use any loops. "
   ]
  },
  {
   "cell_type": "code",
   "execution_count": 17,
   "id": "11cfef0a",
   "metadata": {},
   "outputs": [],
   "source": [
    "def recall_precision(pred, actuals, cutoff):\n",
    "\n",
    "    \"\"\"\n",
    "        pred is a an array of shape (length, )\n",
    "        actuals is an array of shape (length, 1) - all consist of 0's or 1's\n",
    "        cutoff is the cutoff, greater than which prediction would be considered as '1'. For example, if cutoff is 0.5, then\n",
    "        any prediction 0.5 and greater would be predicted as '1'\n",
    "    \"\"\"\n",
    "    #your code goes next\n",
    "    print(f\"Logistic regression model's recall on test set  = {recall:.4f}\")\n",
    "    print(f\"Logistic regression model's precision on test set  = {precision:.4f}\")\n",
    "    return recall, precision\n",
    "    #your code goes here\n",
    "    \n",
    "    return recall, precision\n",
    "\n"
   ]
  },
  {
   "cell_type": "code",
   "execution_count": 18,
   "id": "425a05ef",
   "metadata": {},
   "outputs": [
    {
     "name": "stdout",
     "output_type": "stream",
     "text": [
      "[[0.51 0.  ]\n",
      " [0.3  1.  ]\n",
      " [0.9  1.  ]\n",
      " [0.6  1.  ]\n",
      " [0.59 1.  ]\n",
      " [0.2  0.  ]]\n",
      "Logistic regression model's recall on test set  = 0.7500\n",
      "Logistic regression model's precision on test set  = 0.7500\n"
     ]
    },
    {
     "data": {
      "text/plain": [
       "(0.75, 0.75)"
      ]
     },
     "execution_count": 18,
     "metadata": {},
     "output_type": "execute_result"
    }
   ],
   "source": [
    "#example below: \n",
    "recall_precision(pred, actual, 0.5)"
   ]
  },
  {
   "cell_type": "code",
   "execution_count": 4,
   "id": "fae46ac2",
   "metadata": {},
   "outputs": [
    {
     "data": {
      "text/plain": [
       "(6,)"
      ]
     },
     "execution_count": 4,
     "metadata": {},
     "output_type": "execute_result"
    }
   ],
   "source": [
    "import numpy as np\n",
    "pred = np.array([0.51, 0.3, 0.9,0.6,0.59,0.2])\n",
    "pred.shape"
   ]
  },
  {
   "cell_type": "code",
   "execution_count": 5,
   "id": "c7affc64",
   "metadata": {},
   "outputs": [
    {
     "data": {
      "text/plain": [
       "(1, 6)"
      ]
     },
     "execution_count": 5,
     "metadata": {},
     "output_type": "execute_result"
    }
   ],
   "source": [
    "actual = np.array([[0,1,1,1,1,0]])\n",
    "actual.shape"
   ]
  },
  {
   "cell_type": "code",
   "execution_count": null,
   "id": "e51fe004",
   "metadata": {},
   "outputs": [],
   "source": []
  }
 ],
 "metadata": {
  "kernelspec": {
   "display_name": "Python 3 (ipykernel)",
   "language": "python",
   "name": "python3"
  },
  "language_info": {
   "codemirror_mode": {
    "name": "ipython",
    "version": 3
   },
   "file_extension": ".py",
   "mimetype": "text/x-python",
   "name": "python",
   "nbconvert_exporter": "python",
   "pygments_lexer": "ipython3",
   "version": "3.9.12"
  }
 },
 "nbformat": 4,
 "nbformat_minor": 5
}
