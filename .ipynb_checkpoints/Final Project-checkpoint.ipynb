{
 "cells": [
  {
   "cell_type": "markdown",
   "metadata": {},
   "source": [
    "# Final Project"
   ]
  },
  {
   "cell_type": "markdown",
   "metadata": {},
   "source": [
    "## Date"
   ]
  },
  {
   "cell_type": "markdown",
   "metadata": {},
   "source": [
    "- The final project is due on 18th June, 2022."
   ]
  },
  {
   "cell_type": "markdown",
   "metadata": {},
   "source": [
    "## Requiement"
   ]
  },
  {
   "cell_type": "markdown",
   "metadata": {},
   "source": [
    "We will accept a wide-range of reports on many different topics. The key requirements are that:\n",
    "\n",
    "- Something that involves data and visualization\n",
    "- Please clarify the source of your dataset\n",
    "- Practice of coding skills with Python\n",
    "- Solo work is recommended while a group of two (one lady and one gentleman) is also okay. For the latter case, grading policy changes accordingly as we expect more than for a single-person project.\n",
    "- If you decide to work in pairs, then you should say something about how work will be divided and coordinated in the project proposal."
   ]
  },
  {
   "cell_type": "markdown",
   "metadata": {},
   "source": [
    "## Size of Project and Grading Criteria"
   ]
  },
  {
   "cell_type": "markdown",
   "metadata": {},
   "source": [
    "You should target roughly a similar length as 5 \"pages\" of Jupyter notebooks. But having a large notebook is not needed if you are doing something interesting, as you will not be graded solely on the quantity of code."
   ]
  },
  {
   "cell_type": "markdown",
   "metadata": {},
   "source": [
    "## Grading"
   ]
  },
  {
   "cell_type": "markdown",
   "metadata": {},
   "source": [
    "There are many ways to do well on this project, for example you could do well with alterative strategies:\n",
    "\n",
    "- If you build a new dataset, it could compensate for a less interesting analysis and visualization\n",
    "- If you do a highly interactive visualization, it could compensate for using a preexisting dataset\n",
    "\n",
    "The main criteria for grading will be:\n",
    "\n",
    "- Showing one of more examples of techniques learned in the latter part of the course\n",
    "- Innovativeness of the idea (although this is not necessary)\n",
    "- Clear communication of a lesson/message from the data. Emphasis on clear visualization rather than text.\n",
    "- Code clarity and quality"
   ]
  }
 ],
 "metadata": {
  "kernelspec": {
   "display_name": "Python 3 (ipykernel)",
   "language": "python",
   "name": "python3"
  },
  "language_info": {
   "codemirror_mode": {
    "name": "ipython",
    "version": 3
   },
   "file_extension": ".py",
   "mimetype": "text/x-python",
   "name": "python",
   "nbconvert_exporter": "python",
   "pygments_lexer": "ipython3",
   "version": "3.10.4"
  }
 },
 "nbformat": 4,
 "nbformat_minor": 4
}
