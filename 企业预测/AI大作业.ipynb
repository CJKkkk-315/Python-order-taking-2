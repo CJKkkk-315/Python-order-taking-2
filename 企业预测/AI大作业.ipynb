{
 "cells": [
  {
   "cell_type": "code",
   "execution_count": 1,
   "id": "d84ca716",
   "metadata": {},
   "outputs": [
    {
     "ename": "ModuleNotFoundError",
     "evalue": "No module named 'seaborn'",
     "output_type": "error",
     "traceback": [
      "\u001b[1;31m---------------------------------------------------------------------------\u001b[0m",
      "\u001b[1;31mModuleNotFoundError\u001b[0m                       Traceback (most recent call last)",
      "Input \u001b[1;32mIn [1]\u001b[0m, in \u001b[0;36m<cell line: 5>\u001b[1;34m()\u001b[0m\n\u001b[0;32m      3\u001b[0m \u001b[38;5;28;01mimport\u001b[39;00m \u001b[38;5;21;01mnumpy\u001b[39;00m \u001b[38;5;28;01mas\u001b[39;00m \u001b[38;5;21;01mnp\u001b[39;00m\n\u001b[0;32m      4\u001b[0m \u001b[38;5;28;01mimport\u001b[39;00m \u001b[38;5;21;01mmatplotlib\u001b[39;00m\u001b[38;5;21;01m.\u001b[39;00m\u001b[38;5;21;01mpyplot\u001b[39;00m \u001b[38;5;28;01mas\u001b[39;00m \u001b[38;5;21;01mplt\u001b[39;00m\n\u001b[1;32m----> 5\u001b[0m \u001b[38;5;28;01mimport\u001b[39;00m \u001b[38;5;21;01mseaborn\u001b[39;00m \u001b[38;5;28;01mas\u001b[39;00m \u001b[38;5;21;01msns\u001b[39;00m\n\u001b[0;32m      6\u001b[0m \u001b[38;5;28;01mimport\u001b[39;00m \u001b[38;5;21;01mtime\u001b[39;00m\n\u001b[0;32m      7\u001b[0m \u001b[38;5;66;03m#展示所有行\u001b[39;00m\n",
      "\u001b[1;31mModuleNotFoundError\u001b[0m: No module named 'seaborn'"
     ]
    }
   ],
   "source": [
    "#导入数据\n",
    "import pandas as pd\n",
    "import numpy as np\n",
    "import matplotlib.pyplot as plt\n",
    "import seaborn as sns\n",
    "import time\n",
    "#展示所有行\n",
    "pd.set_option('display.max_columns', None)"
   ]
  },
  {
   "cell_type": "code",
   "execution_count": null,
   "id": "6180e253",
   "metadata": {},
   "outputs": [],
   "source": [
    "#读取training_data\n",
    "data = pd.read_csv('D:/Fintec_Class/ML/ml_case_data/ml_case_training_data.csv')\n",
    "data.head()"
   ]
  },
  {
   "cell_type": "code",
   "execution_count": null,
   "id": "330f9ebc",
   "metadata": {},
   "outputs": [],
   "source": [
    "#将数据中的零值变为空值\n",
    "data = data.replace(0,np.nan)"
   ]
  },
  {
   "cell_type": "code",
   "execution_count": null,
   "id": "0b0855c5",
   "metadata": {},
   "outputs": [],
   "source": [
    "data.info()"
   ]
  },
  {
   "cell_type": "code",
   "execution_count": null,
   "id": "e7b295ab",
   "metadata": {},
   "outputs": [],
   "source": [
    "#删除缺失值达到20%的变量\n",
    "val_num = len(data.columns)\n",
    "val_miss = {}\n",
    "val_all = data.isnull().sum()\n",
    "for i in range(val_num):\n",
    "    if val_all[i] != 0:\n",
    "        val_miss[data.columns[i]]=val_all[i]\n",
    "val_miss_names = list(val_miss.keys())\n",
    "data_num = len(data)\n",
    "for i in range(len(val_miss)):\n",
    "    if val_miss[val_miss_names[i]]>0.2*data_num:\n",
    "        print('删除'+val_miss_names[i])\n",
    "        data = data.drop(val_miss_names[i],axis=1) "
   ]
  },
  {
   "cell_type": "code",
   "execution_count": null,
   "id": "3895728a",
   "metadata": {},
   "outputs": [],
   "source": [
    "data.info()"
   ]
  },
  {
   "cell_type": "code",
   "execution_count": null,
   "id": "ac5d327c",
   "metadata": {},
   "outputs": [],
   "source": [
    "data['date_end'].isnull()[2]"
   ]
  },
  {
   "cell_type": "code",
   "execution_count": null,
   "id": "4e24db50",
   "metadata": {},
   "outputs": [],
   "source": [
    "#求合同开始和结束的间隔天数，单独的日期没有实际意义。\n",
    "data['days']=0\n",
    "def cal_days(data):\n",
    "    for i in range(len(data)):\n",
    "        if data['date_end'].isnull()[i]==False:\n",
    "            start_time = data['date_activ'][i]\n",
    "            end_time = data['date_end'][i]\n",
    "            start = time.mktime(time.strptime(start_time,'%Y-%m-%d'))\n",
    "            end = time.mktime(time.strptime(end_time,'%Y-%m-%d'))\n",
    "            data['days'][i] = int((end - start)/(24*60*60))\n",
    "        else:\n",
    "            data['days'][i] = np.nan\n",
    "cal_days(data)\n",
    "#data.drop(['date_activ','date_end'],axis=1,inplace=True)\n",
    "data.head()"
   ]
  },
  {
   "cell_type": "code",
   "execution_count": null,
   "id": "2e830f50",
   "metadata": {},
   "outputs": [],
   "source": [
    "#求下一个续约日和结束的间隔天数，单独的日期没有实际意义。\n",
    "data['renewal_days']=0\n",
    "def cal_days(data):\n",
    "    for i in range(len(data)):\n",
    "        if (data['date_end'].isnull()[i]==False) and (data['date_renewal'].isnull()[i]==False):\n",
    "            renewal_time = data['date_renewal'][i]\n",
    "            end_time = data['date_end'][i]\n",
    "            renewal = time.mktime(time.strptime(renewal_time,'%Y-%m-%d'))\n",
    "            end = time.mktime(time.strptime(end_time,'%Y-%m-%d'))\n",
    "            data['renewal_days'][i] = int((renewal-end)/(24*60*60))\n",
    "        else:\n",
    "            data['renewal_days'][i] = np.nan\n",
    "cal_days(data)\n",
    "#data.drop(['renewal_days','date_end'],axis=1,inplace=True)\n",
    "data.head(60)"
   ]
  },
  {
   "cell_type": "code",
   "execution_count": null,
   "id": "d7e7b7a2",
   "metadata": {},
   "outputs": [],
   "source": [
    "#判断最后一次修改处于什么阶段\n",
    "#当在开始日期之前为0\n",
    "#当等于开始日期时为1\n",
    "#当在合同执行日期之时为2\n",
    "#当超出合同日期为3\n",
    "data['modif_label']=0\n",
    "def cal_modif_label(data):\n",
    "    for i in range(len(data)):\n",
    "        if (data['date_end'].isnull()[i]==False) and (data['date_modif_prod'].isnull()[i]==False):\n",
    "            start_time = data['date_activ'][i]\n",
    "            date_modif_prod = data['date_modif_prod'][i]\n",
    "            end_time = data['date_end'][i]\n",
    "            modif = time.mktime(time.strptime(date_modif_prod,'%Y-%m-%d'))\n",
    "            start = time.mktime(time.strptime(start_time,'%Y-%m-%d'))\n",
    "            end = time.mktime(time.strptime(end_time,'%Y-%m-%d'))\n",
    "            if modif<start:\n",
    "                data['modif_label'][i] = 0\n",
    "            elif modif==start:\n",
    "                data['modif_label'][i] = 1\n",
    "            elif modif>start and modif<=end:\n",
    "                data['modif_label'][i] = 2\n",
    "            elif modif>end:\n",
    "                data['modif_label'][i] = 3\n",
    "        else:\n",
    "            data['modif_label'][i] = np.nan\n",
    "cal_modif_label(data)\n",
    "#data.drop(['renewal_days','date_end'],axis=1,inplace=True)\n",
    "data.head(60)"
   ]
  },
  {
   "cell_type": "code",
   "execution_count": null,
   "id": "c48521b2",
   "metadata": {},
   "outputs": [],
   "source": [
    "origin_list = data['origin_up'].unique().tolist()\n",
    "def change_list(data,origin_list):\n",
    "    j = 0\n",
    "    for i in origin_list:\n",
    "        data.loc[data['origin_up']==i,'origin_up']=j\n",
    "        j +=1\n",
    "change_list(data,origin_list)\n",
    "data.head()"
   ]
  },
  {
   "cell_type": "code",
   "execution_count": null,
   "id": "a9e2ab96",
   "metadata": {},
   "outputs": [],
   "source": [
    "data.loc[data['has_gas']=='t','has_gas']=1\n",
    "data.loc[data['has_gas']=='f','has_gas']=0"
   ]
  },
  {
   "cell_type": "code",
   "execution_count": null,
   "id": "81200b89",
   "metadata": {
    "scrolled": true
   },
   "outputs": [],
   "source": [
    "#判断数据的数据类型，决定采用哪种插值方法\n",
    "#data['pow_max'].value_counts()\n",
    "#data['origin_up'].value_counts()\n",
    "#data['date_end'].value_counts()\n",
    "data['date_modif_prod'].value_counts()"
   ]
  },
  {
   "cell_type": "code",
   "execution_count": null,
   "id": "b55ce1a8",
   "metadata": {},
   "outputs": [],
   "source": [
    "data.info()"
   ]
  },
  {
   "cell_type": "code",
   "execution_count": null,
   "id": "628dd34f",
   "metadata": {},
   "outputs": [],
   "source": [
    "#根据数据类型的不同，采用不同的方式填充数据\n",
    "data.loc[data['cons_12m'].isnull(),'cons_12m']=data['cons_12m'].median()\n",
    "data.loc[data['forecast_cons_12m'].isnull(),'forecast_cons_12m']=data['forecast_cons_12m'].median()\n",
    "data.loc[data['forecast_meter_rent_12m'].isnull(),'forecast_meter_rent_12m']=data['forecast_meter_rent_12m'].median()\n",
    "data.loc[data['forecast_price_energy_p1'].isnull(),'forecast_price_energy_p1']=data['forecast_price_energy_p1'].median()\n",
    "data.loc[data['forecast_price_pow_p1'].isnull(),'forecast_price_pow_p1']=data['forecast_price_pow_p1'].median()\n",
    "data.loc[data['net_margin'].isnull(),'net_margin']=data['net_margin'].median()\n",
    "data.loc[data['margin_gross_pow_ele'].isnull(),'margin_gross_pow_ele']=data['margin_gross_pow_ele'].median()\n",
    "data.loc[data['margin_net_pow_ele'].isnull(),'margin_net_pow_ele']=data['margin_net_pow_ele'].median()\n",
    "data.loc[data['pow_max'].isnull(),'pow_max']=data['pow_max'].median()\n",
    "data.loc[data['days'].isnull(),'days']=data['days'].median()\n",
    "data.loc[data['renewal_days'].isnull(),'renewal_days']=data['renewal_days'].median()\n",
    "data.loc[data['modif_label'].isnull(),'modif_label']=data['modif_label'].mode()[0]\n",
    "data.loc[data['origin_up'].isnull(),'origin_up']=data['origin_up'].mode()[0]"
   ]
  },
  {
   "cell_type": "code",
   "execution_count": null,
   "id": "dc351c50",
   "metadata": {},
   "outputs": [],
   "source": [
    "data.info()"
   ]
  },
  {
   "cell_type": "code",
   "execution_count": null,
   "id": "36bdb8f9",
   "metadata": {},
   "outputs": [],
   "source": [
    "data.drop(['date_activ','date_end','date_modif_prod','date_renewal'],axis=1,inplace=True)\n",
    "data.info()"
   ]
  },
  {
   "cell_type": "code",
   "execution_count": null,
   "id": "9419053d",
   "metadata": {},
   "outputs": [],
   "source": [
    "#读取hist_data数据\n",
    "hist_data = pd.read_csv('D:/Fintec_Class/ML/ml_case_data/ml_case_training_hist_data.csv')\n",
    "hist_data.head()"
   ]
  },
  {
   "cell_type": "code",
   "execution_count": null,
   "id": "670ace60",
   "metadata": {},
   "outputs": [],
   "source": [
    "#将数据中的零值变为空值\n",
    "hist_data = hist_data.replace(0,np.nan)"
   ]
  },
  {
   "cell_type": "code",
   "execution_count": null,
   "id": "d8152912",
   "metadata": {
    "scrolled": true
   },
   "outputs": [],
   "source": [
    "#数据基础信息，有多少条\n",
    "hist_data.info()"
   ]
  },
  {
   "cell_type": "code",
   "execution_count": null,
   "id": "07bb36a8",
   "metadata": {},
   "outputs": [],
   "source": [
    "#删除缺失值达到20%的变量\n",
    "val_num = len(hist_data.columns)\n",
    "val_miss = {}\n",
    "val_all = hist_data.isnull().sum()\n",
    "for i in range(val_num):\n",
    "    if val_all[i] != 0:\n",
    "        val_miss[hist_data.columns[i]]=val_all[i]\n",
    "val_miss_names = list(val_miss.keys())\n",
    "data_num = len(hist_data)\n",
    "for i in range(len(val_miss)):\n",
    "    if val_miss[val_miss_names[i]]>0.2*data_num:\n",
    "        print('删除'+val_miss_names[i])\n",
    "        hist_data = hist_data.drop(val_miss_names[i],axis=1) \n",
    "hist_data.info()"
   ]
  },
  {
   "cell_type": "code",
   "execution_count": null,
   "id": "704f9046",
   "metadata": {},
   "outputs": [],
   "source": [
    "#按照id分组，因为这个数据是每个id每12个月的数据，其他数据集每个id只有一条数据。所以求价格均值，展现一条数据，方便处理\n",
    "hist_data = hist_data.groupby('id',as_index=False).mean()\n",
    "hist_data.head()"
   ]
  },
  {
   "cell_type": "code",
   "execution_count": null,
   "id": "366edd76",
   "metadata": {},
   "outputs": [],
   "source": [
    "#求均值后舍弃其他数据\n",
    "#hist_data.drop(['price_p1_var','price_p2_var','price_p3_var','price_p1_fix','price_p2_fix','price_p3_fix'],axis=1,inplace=True)\n",
    "hist_data.info()"
   ]
  },
  {
   "cell_type": "code",
   "execution_count": null,
   "id": "e4b9dd10",
   "metadata": {},
   "outputs": [],
   "source": [
    "#有一行有缺失值，用中位数填充\n",
    "hist_data.loc[hist_data['price_p1_var'].isnull(),'price_p1_var']=hist_data['price_p1_var'].median()\n",
    "hist_data.loc[hist_data['price_p1_fix'].isnull(),'price_p1_fix']=hist_data['price_p1_fix'].median()\n",
    "hist_data.info()"
   ]
  },
  {
   "cell_type": "code",
   "execution_count": null,
   "id": "760154f1",
   "metadata": {},
   "outputs": [],
   "source": [
    "#读取output数据\n",
    "output_data = pd.read_csv('D:/Fintec_Class/ML/ml_case_data/ml_case_training_output.csv')\n",
    "output_data.head()"
   ]
  },
  {
   "cell_type": "code",
   "execution_count": null,
   "id": "8f7e2223",
   "metadata": {},
   "outputs": [],
   "source": [
    "output_data.info()"
   ]
  },
  {
   "cell_type": "code",
   "execution_count": null,
   "id": "37e052dd",
   "metadata": {},
   "outputs": [],
   "source": [
    "#对data和hist_data进行合并操作，内连接合并\n",
    "data = pd.merge(data,hist_data,on=['id'],how='inner')\n",
    "data.head()\n",
    "data.info()"
   ]
  },
  {
   "cell_type": "code",
   "execution_count": null,
   "id": "bcbf4cc2",
   "metadata": {
    "scrolled": true
   },
   "outputs": [],
   "source": [
    "#对data和output_data进行合并操作，内连接合并\n",
    "data = pd.merge(data,output_data,on=['id'],how='inner')\n",
    "data.head()\n",
    "data.info()"
   ]
  },
  {
   "cell_type": "code",
   "execution_count": null,
   "id": "d608ca6a",
   "metadata": {
    "scrolled": true
   },
   "outputs": [],
   "source": [
    "data.head()"
   ]
  },
  {
   "cell_type": "code",
   "execution_count": null,
   "id": "cdd2c987",
   "metadata": {},
   "outputs": [],
   "source": [
    "#查看标签情况\n",
    "f,ax=plt.subplots(1,2,figsize=(18,8))\n",
    "data['churn'].value_counts().plot.pie(explode=[0,0.1],autopct='%1.1f%%',ax=ax[0],shadow=True)\n",
    "ax[0].set_title('churn')\n",
    "ax[0].set_ylabel('')\n",
    "sns.countplot('churn',data=data,ax=ax[1])\n",
    "ax[1].set_title('churn')\n",
    "plt.show()"
   ]
  },
  {
   "cell_type": "code",
   "execution_count": null,
   "id": "225c11f3",
   "metadata": {},
   "outputs": [],
   "source": [
    "#has_gas与标签关系\n",
    "f,ax=plt.subplots(1,2,figsize=(18,8))\n",
    "data[['has_gas','churn']].groupby(['has_gas']).mean().plot.bar(ax=ax[0])\n",
    "ax[0].set_title('churn vs has_gas')\n",
    "sns.countplot('has_gas',hue='churn',data=data,ax=ax[1])\n",
    "ax[1].set_title('has_gas:1 vs 0')\n",
    "plt.show()"
   ]
  },
  {
   "cell_type": "code",
   "execution_count": null,
   "id": "c4e053a5",
   "metadata": {},
   "outputs": [],
   "source": [
    "data.head()"
   ]
  },
  {
   "cell_type": "code",
   "execution_count": null,
   "id": "594a4a9a",
   "metadata": {},
   "outputs": [],
   "source": [
    "#data['price_p1_var_Range']=pd.qcut(data['price_p1_var'],5)\n",
    "#data.groupby(['price_p1_var_Range'])['churn'].mean().to_frame().style.background_gradient(cmap='summer_r')"
   ]
  },
  {
   "cell_type": "code",
   "execution_count": null,
   "id": "d75ce62e",
   "metadata": {},
   "outputs": [],
   "source": [
    "def qcut_columns(data):\n",
    "    data['Fare_Range']=pd.qcut(data['Fare'],5)\n",
    "    data.groupby(['Fare_Range'])['Survived'].mean().to_frame().style.background_gradient(cmap='summer_r')"
   ]
  },
  {
   "cell_type": "code",
   "execution_count": null,
   "id": "fe2a572f",
   "metadata": {},
   "outputs": [],
   "source": [
    "data.drop(['cons_12m_Range','price_p1_var_Range'],axis=1,inplace=True)\n",
    "data.head()"
   ]
  },
  {
   "cell_type": "code",
   "execution_count": null,
   "id": "f5ac003c",
   "metadata": {},
   "outputs": [],
   "source": [
    "#importing all the required ML packages\n",
    "from sklearn.linear_model import LogisticRegression #logistic regression\n",
    "from sklearn import svm #support vector Machine\n",
    "from sklearn.ensemble import RandomForestClassifier #Random Forest\n",
    "from sklearn.neighbors import KNeighborsClassifier #KNN\n",
    "from sklearn.naive_bayes import GaussianNB #Naive bayes\n",
    "from sklearn.tree import DecisionTreeClassifier #Decision Tree\n",
    "from sklearn.model_selection import train_test_split #training and testing data split\n",
    "from sklearn import metrics #accuracy measure\n",
    "from sklearn.metrics import confusion_matrix #for confusion matrix"
   ]
  },
  {
   "cell_type": "code",
   "execution_count": null,
   "id": "85282a4b",
   "metadata": {},
   "outputs": [],
   "source": [
    "train,test=train_test_split(data,test_size=0.3,random_state=0,stratify=data['churn'])\n",
    "train_X=train[train.columns[1:]]\n",
    "train_Y=train[train.columns[:1]]\n",
    "test_X=test[test.columns[1:]]\n",
    "test_Y=test[test.columns[:1]]\n",
    "X=data[data.columns[1:]]\n",
    "Y=data['churn']"
   ]
  },
  {
   "cell_type": "code",
   "execution_count": null,
   "id": "a63673bf",
   "metadata": {},
   "outputs": [],
   "source": [
    "model=svm.SVC(kernel='rbf',C=1,gamma=0.1)\n",
    "model.fit(train_X,train_Y)\n",
    "prediction1=model.predict(test_X)\n",
    "print('Accuracy for rbf SVM is ',metrics.accuracy_score(prediction1,test_Y))"
   ]
  },
  {
   "cell_type": "code",
   "execution_count": null,
   "id": "7b933f44",
   "metadata": {},
   "outputs": [],
   "source": [
    "model=RandomForestClassifier(n_estimators=100)\n",
    "model.fit(train_X,train_Y)\n",
    "prediction7=model.predict(test_X)\n",
    "print('The accuracy of the Random Forests is',metrics.accuracy_score(prediction7,test_Y))"
   ]
  },
  {
   "cell_type": "code",
   "execution_count": null,
   "id": "f0f21aa0",
   "metadata": {},
   "outputs": [],
   "source": [
    "model=DecisionTreeClassifier()\n",
    "model.fit(train_X,train_Y)\n",
    "prediction4=model.predict(test_X)\n",
    "print('The accuracy of the Decision Tree is',metrics.accuracy_score(prediction4,test_Y))"
   ]
  },
  {
   "cell_type": "code",
   "execution_count": null,
   "id": "5e9afa87",
   "metadata": {},
   "outputs": [],
   "source": []
  }
 ],
 "metadata": {
  "kernelspec": {
   "display_name": "Python 3 (ipykernel)",
   "language": "python",
   "name": "python3"
  },
  "language_info": {
   "codemirror_mode": {
    "name": "ipython",
    "version": 3
   },
   "file_extension": ".py",
   "mimetype": "text/x-python",
   "name": "python",
   "nbconvert_exporter": "python",
   "pygments_lexer": "ipython3",
   "version": "3.9.9"
  }
 },
 "nbformat": 4,
 "nbformat_minor": 5
}
