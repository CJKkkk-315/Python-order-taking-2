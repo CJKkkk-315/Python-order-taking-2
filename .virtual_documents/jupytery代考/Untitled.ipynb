import math
import cmath
import matplotlib.pyplot as plt
def function1():
    a = float(input("a ="))
    b = float(input("b ="))
    c = float(input("c ="))
    # Calculate the value of delta
    delta = b*b - 4*a*c
    # if delta == 0,the equation has two identical roots
    if abs(delta) == 0:
        x1 = -b/(2*a)
        print("x1=x2={:.2f}".format(x1))
    # if delta > 0,the equation has two different real roots
    elif delta > 0:
        x1 = (-b + math.sqrt(delta))/(2*a)
        x2 = (-b - math.sqrt(delta))/(2*a)
        print("x1={:.2f};x2={:.2f}".format(x1,x2))
    # if delta < 0,the equation has two different virtual roots
    else :
        x1 = (-b + cmath.sqrt(delta))/(2*a)
        x2 = (-b - cmath.sqrt(delta))/(2*a)
        print("x1={0.real:.2f}{0.imag:+.2f}i;".format(x1),end = '')
        print("x2={0.real:.2f}{0.imag:+.2f}i".format(x2))
    x = list(range(-10,10))
    y = []
    for i in range(-10,10):
        y.append(a*i*i+b*i+c)
    plt.plot(x,y)
    plt.show()
function1()
function1()
function1()


def function2(a1,b1,c1,a2,b2,c2):
    t = a1/a2
    a2 *= t
    b2 *= t
    c2 *= t
    y = (c1-c2)/(b1-b2)
    x = (c1-y*b1)/a1
    print("x={}".format(x))
    print("y={}".format(y))
function2(3,5,9,1,-2,-8)


def function3(n):
    s = 1
    for i in range(1,n+1):
        s *= 2 ** i
    print(s)
n = int(input("n ="))
function3(n)


def function4(n):
    t = 2
    s = 0
    for i in range(n):
        s += 1/t
        t *= 2
    print(s)
n = int(input("n ="))
function4(n)
