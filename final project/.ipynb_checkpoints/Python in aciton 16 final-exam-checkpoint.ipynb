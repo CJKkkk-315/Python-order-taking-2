{
 "cells": [
  {
   "cell_type": "markdown",
   "id": "e423810b",
   "metadata": {},
   "source": [
    "# 编程基础期末考试"
   ]
  },
  {
   "cell_type": "markdown",
   "id": "1acbd5e0",
   "metadata": {},
   "source": [
    "+ 姓名：\n",
    "+ 班级："
   ]
  },
  {
   "cell_type": "markdown",
   "id": "2de9c59b",
   "metadata": {},
   "source": [
    "## Exercise n. 1 (10 Marks)\n",
    "请求2个号码给用户。 编写一个函数，输出作为参数传递的两个数字之间的最小值。 尽量使用if…elif…else语句，避免使用max()函数。 "
   ]
  },
  {
   "cell_type": "code",
   "execution_count": 35,
   "id": "6ec7812f",
   "metadata": {},
   "outputs": [
    {
     "name": "stdin",
     "output_type": "stream",
     "text": [
      " 100\n",
      " 200\n"
     ]
    },
    {
     "name": "stdout",
     "output_type": "stream",
     "text": [
      "100\n"
     ]
    }
   ],
   "source": [
    "def d(a,b):\n",
    "    if a > b:\n",
    "        print(b)\n",
    "    elif b > a:\n",
    "        print(a)\n",
    "    else:\n",
    "        print(a,'=',b)\n",
    "a = int(input())\n",
    "b = int(input())\n",
    "d(a,b)"
   ]
  },
  {
   "cell_type": "markdown",
   "id": "4a0bcfb8",
   "metadata": {},
   "source": [
    "## Exercise n.2 (10 Marks)\n",
    "向用户请求单个字符。编写一个接收字符作为参数的函数。该函数将打印字符是否是元音(例如a, e, i, o, u)。"
   ]
  },
  {
   "cell_type": "code",
   "execution_count": 33,
   "id": "fb563c10",
   "metadata": {},
   "outputs": [
    {
     "name": "stdin",
     "output_type": "stream",
     "text": [
      " a\n"
     ]
    },
    {
     "name": "stdout",
     "output_type": "stream",
     "text": [
      "yes\n"
     ]
    }
   ],
   "source": [
    "def check(c):\n",
    "    l = 'aeiou'\n",
    "    if c in l:\n",
    "        print('yes')\n",
    "    else:\n",
    "        print('no')\n",
    "c = input()\n",
    "check(c)"
   ]
  },
  {
   "cell_type": "markdown",
   "id": "9de47b59",
   "metadata": {},
   "source": [
    "## Exercise n. 3 (10 Marks)\n",
    "给定一个数字列表，编写一个函数来计算(并返回)列表中所有数字的平均值。用于声明。需要适当的条件检查。"
   ]
  },
  {
   "cell_type": "code",
   "execution_count": 30,
   "id": "942400bc",
   "metadata": {},
   "outputs": [
    {
     "name": "stdout",
     "output_type": "stream",
     "text": [
      "3.0\n"
     ]
    }
   ],
   "source": [
    "def f(l):\n",
    "    try:\n",
    "        return sum(l)/len(l)\n",
    "    except:\n",
    "        return False\n",
    "print(f([1,2,3,4,5]))"
   ]
  },
  {
   "cell_type": "markdown",
   "id": "34c2a76f",
   "metadata": {},
   "source": [
    "## Exercise n. 4 (10 Marks)\n",
    "文本直方图生成器。写一个函数，给定一个数字列表，打印一个基于这些数字的直方图。\n",
    "用星号*来画。\n",
    "\n",
    "例如:给定列表[3,7,9,5]，它应该产生如下的直方图:\n",
    "\n",
    "`===`\n",
    "\n",
    "`=======`\n",
    "\n",
    "`=========`\n",
    "\n",
    "`=====`"
   ]
  },
  {
   "cell_type": "code",
   "execution_count": 28,
   "id": "5aa36498-9317-46d8-bb47-c993459b4903",
   "metadata": {},
   "outputs": [
    {
     "name": "stdout",
     "output_type": "stream",
     "text": [
      "===\n",
      "=======\n",
      "=========\n",
      "=====\n"
     ]
    }
   ],
   "source": [
    "def printg(l):\n",
    "    for i in l:\n",
    "        print('='*i)\n",
    "printg([3,7,9,5])"
   ]
  },
  {
   "cell_type": "markdown",
   "id": "66c2746d",
   "metadata": {},
   "source": [
    "## Exercise n. 5 (10 Marks)"
   ]
  },
  {
   "cell_type": "markdown",
   "id": "64d54314",
   "metadata": {},
   "source": [
    "与练习n. 4相同，但函数应该接收一个参数来对列表排序。该参数应该允许值为“Ascending  ”或“Descending”。它应该用于基于有序列表生成适当的直方图。\n",
    "\n",
    "示例:给定列表[3,7,9,5]并按“Ascending”排序，它应该产生如下的直方图:\n",
    "\n",
    "`===`\n",
    "\n",
    "`=====`\n",
    "\n",
    "`=======`\n",
    "\n",
    "`=========`"
   ]
  },
  {
   "cell_type": "code",
   "execution_count": 27,
   "id": "12219fd0-c44e-4532-afc3-6f1f4c968f1c",
   "metadata": {},
   "outputs": [
    {
     "name": "stdout",
     "output_type": "stream",
     "text": [
      "===\n",
      "=====\n",
      "=======\n",
      "=========\n"
     ]
    }
   ],
   "source": [
    "def printg(l,f):\n",
    "    if f == 'Ascending':\n",
    "        l.sort(reverse=False)\n",
    "        for i in l:\n",
    "            print('='*i)\n",
    "    elif f == 'Descending':\n",
    "        l.sort(reverse=True)\n",
    "        for i in l:\n",
    "            print('*'*i)\n",
    "printg([3,7,9,5],'Ascending')"
   ]
  },
  {
   "cell_type": "markdown",
   "id": "b1e3e3b5",
   "metadata": {},
   "source": [
    "## Exercise n. 6 (10 Marks)"
   ]
  },
  {
   "cell_type": "markdown",
   "id": "1b57b2e5",
   "metadata": {},
   "source": [
    "定义一个函数，它可以生成和打印一个列表，其中的值是1到20之间的数的平方(包括这两个数)。 提示：使用**运算符得到一个数字的幂，对于循环使用range()，使用list.append()向列表中添加值。"
   ]
  },
  {
   "cell_type": "code",
   "execution_count": 11,
   "id": "17f4747a-503f-4059-9dc9-593ec4575c5d",
   "metadata": {},
   "outputs": [
    {
     "name": "stdout",
     "output_type": "stream",
     "text": [
      "[1, 4, 9, 16, 25, 36, 49, 64, 81, 100, 121, 144, 169, 196, 225, 256, 289, 324, 361, 400]\n"
     ]
    }
   ],
   "source": [
    "def b():\n",
    "    l = []\n",
    "    for i in range(1,21):\n",
    "        l.append(i**2)\n",
    "    print(l)\n",
    "b()"
   ]
  },
  {
   "cell_type": "markdown",
   "id": "20265a6d",
   "metadata": {},
   "source": [
    "## Exercise n. 7(10 Marks)"
   ]
  },
  {
   "cell_type": "markdown",
   "id": "cf2f4b79",
   "metadata": {},
   "source": [
    "随机生成1,100内的一个整数； 提示：random.randint()"
   ]
  },
  {
   "cell_type": "code",
   "execution_count": 12,
   "id": "432ba045-4abb-4e94-93ec-39f4efe23b53",
   "metadata": {},
   "outputs": [
    {
     "data": {
      "text/plain": [
       "62"
      ]
     },
     "execution_count": 12,
     "metadata": {},
     "output_type": "execute_result"
    }
   ],
   "source": [
    "import random\n",
    "a = random.randint(1,100)\n",
    "print(a)"
   ]
  },
  {
   "cell_type": "markdown",
   "id": "3b54c76c",
   "metadata": {},
   "source": [
    "## Exercise n. 8 (10 Marks)"
   ]
  },
  {
   "cell_type": "markdown",
   "id": "dbae4196",
   "metadata": {},
   "source": [
    "问题：通过使用列表理解，请编写一个程序，在[12,24,35,24,88,120,155]中删除值24后打印列表。 提示：使用列表的remove方法删除一个值。"
   ]
  },
  {
   "cell_type": "code",
   "execution_count": null,
   "id": "abebcc96",
   "metadata": {},
   "outputs": [
    {
     "name": "stdout",
     "output_type": "stream",
     "text": [
      "[12, 35, 24, 88, 120, 155]\n"
     ]
    }
   ],
   "source": [
    "l = [12,24,35,24,88,120,155]\n",
    "l.remove(24)\n",
    "print(l)"
   ]
  },
  {
   "cell_type": "markdown",
   "id": "967d5650",
   "metadata": {},
   "source": [
    "## Exercise n.9 (10 Marks)"
   ]
  },
  {
   "cell_type": "markdown",
   "id": "3438accc",
   "metadata": {},
   "source": [
    "例子：查找列表中的最小元素"
   ]
  },
  {
   "cell_type": "code",
   "execution_count": null,
   "id": "264c7a7d",
   "metadata": {},
   "outputs": [
    {
     "name": "stdout",
     "output_type": "stream",
     "text": [
      "Minimum element value: -8\n"
     ]
    }
   ],
   "source": [
    "minElement = None\n",
    "for number in [8, 56, 75, 9, 10]:\n",
    "    if minElement is None: # Similar to == but more powerful\n",
    "        minElement = number\n",
    "    elif number <= minElement:\n",
    "        minElement = number\n",
    "print('Minimum element value:', minElement)"
   ]
  },
  {
   "cell_type": "markdown",
   "id": "5a2fb904",
   "metadata": {},
   "source": [
    "问题：改写上面的程序，列表改为[-8, -56, -75, -9, -10]，并找出最大值"
   ]
  },
  {
   "cell_type": "code",
   "execution_count": 18,
   "id": "4e77e917",
   "metadata": {},
   "outputs": [
    {
     "name": "stdout",
     "output_type": "stream",
     "text": [
      "Maximum element value: -8\n"
     ]
    }
   ],
   "source": [
    "maxElement = None\n",
    "for number in [-8, -56, -75, -9, -10]:\n",
    "    if maxElement is None: # Similar to == but more powerful\n",
    "        maxElement = number\n",
    "    elif number >= maxElement:\n",
    "        maxElement = number\n",
    "print('Maximum element value:', maxElement)"
   ]
  },
  {
   "cell_type": "markdown",
   "id": "792fbc6d",
   "metadata": {},
   "source": [
    "## Exercise n.10 (10 Marks)"
   ]
  },
  {
   "cell_type": "markdown",
   "id": "160201cd",
   "metadata": {},
   "source": [
    "修改猜数字程序"
   ]
  },
  {
   "cell_type": "code",
   "execution_count": 21,
   "id": "8710baf1-6681-48bf-ba61-cb3ed14817ad",
   "metadata": {},
   "outputs": [
    {
     "name": "stdin",
     "output_type": "stream",
     "text": [
      "Your guessed number: 2\n"
     ]
    },
    {
     "name": "stdout",
     "output_type": "stream",
     "text": [
      "Guess a bigger number\n"
     ]
    },
    {
     "name": "stdin",
     "output_type": "stream",
     "text": [
      "Your guessed number: 5\n"
     ]
    },
    {
     "name": "stdout",
     "output_type": "stream",
     "text": [
      "Guess a bigger number\n"
     ]
    },
    {
     "name": "stdin",
     "output_type": "stream",
     "text": [
      "Your guessed number: 7\n"
     ]
    },
    {
     "name": "stdout",
     "output_type": "stream",
     "text": [
      "Guess a bigger number\n"
     ]
    },
    {
     "name": "stdin",
     "output_type": "stream",
     "text": [
      "Your guessed number: 8\n"
     ]
    },
    {
     "name": "stdout",
     "output_type": "stream",
     "text": [
      "Guess a bigger number\n"
     ]
    },
    {
     "name": "stdin",
     "output_type": "stream",
     "text": [
      "Your guessed number: 9\n"
     ]
    },
    {
     "name": "stdout",
     "output_type": "stream",
     "text": [
      "Guess a bigger number\n"
     ]
    },
    {
     "name": "stdin",
     "output_type": "stream",
     "text": [
      "Your guessed number: 1\n"
     ]
    },
    {
     "name": "stdout",
     "output_type": "stream",
     "text": [
      "Guess a bigger number\n"
     ]
    },
    {
     "name": "stdin",
     "output_type": "stream",
     "text": [
      "Your guessed number: 10\n"
     ]
    },
    {
     "name": "stdout",
     "output_type": "stream",
     "text": [
      "Bravo!\n",
      "10\n"
     ]
    }
   ],
   "source": [
    "## 抽取1到10之间的随机数\n",
    "import random\n",
    "extractedNumber = int(random.randint(1,10))\n",
    "\n",
    "myGuess = None\n",
    "\n",
    "# 循环，直到用户猜出准确的数字\n",
    "while myGuess != extractedNumber:\n",
    "    myGuess = int(input('Your guessed number:'))\n",
    "    if myGuess > extractedNumber:\n",
    "        print('Guess a smaller number')\n",
    "    if myGuess < extractedNumber:\n",
    "        print('Guess a bigger number')\n",
    "    if myGuess == extractedNumber:\n",
    "        print('Bravo!')\n",
    "        break\n",
    "print(extractedNumber)"
   ]
  },
  {
   "cell_type": "markdown",
   "id": "405b7d0c",
   "metadata": {},
   "source": [
    "问题：上述代码中需要执行3次input，请将程序改写为执行一次输入（提示，结合到循环语句中。）"
   ]
  },
  {
   "cell_type": "code",
   "execution_count": null,
   "id": "e0151611",
   "metadata": {},
   "outputs": [],
   "source": []
  },
  {
   "cell_type": "code",
   "execution_count": null,
   "id": "17cbc44d",
   "metadata": {},
   "outputs": [],
   "source": []
  }
 ],
 "metadata": {
  "kernelspec": {
   "display_name": "Python 3 (ipykernel)",
   "language": "python",
   "name": "python3"
  },
  "language_info": {
   "codemirror_mode": {
    "name": "ipython",
    "version": 3
   },
   "file_extension": ".py",
   "mimetype": "text/x-python",
   "name": "python",
   "nbconvert_exporter": "python",
   "pygments_lexer": "ipython3",
   "version": "3.9.9"
  }
 },
 "nbformat": 4,
 "nbformat_minor": 5
}
