{
 "cells": [
  {
   "cell_type": "code",
   "execution_count": 1,
   "id": "f66363ea-660c-4a6a-8d0a-7a0d7535a39d",
   "metadata": {},
   "outputs": [],
   "source": [
    "import jieba\n",
    "from sklearn.feature_extraction.text import TfidfVectorizer"
   ]
  },
  {
   "cell_type": "code",
   "execution_count": 2,
   "id": "bcf992ae-12ab-4340-b3aa-3e1e00814055",
   "metadata": {},
   "outputs": [],
   "source": [
    "def tokenizer_jieba(line):\n",
    "    # 结巴分词\n",
    "    return [li for li in jieba.cut(line) if li.strip() != '']"
   ]
  },
  {
   "cell_type": "code",
   "execution_count": 3,
   "id": "8ad9ef0d-1724-41f3-9b59-f97a6ea32c1b",
   "metadata": {},
   "outputs": [],
   "source": [
    "def get_data_tf_idf(email_file_name):\n",
    "    # 通过jieba分词，创造tfidf词频空间向量\n",
    "    vectoring = TfidfVectorizer(input='content', tokenizer=tokenizer_jieba, analyzer='word')\n",
    "    content = open(email_file_name, 'r', encoding='utf8').readlines()\n",
    "    x = vectoring.fit_transform(content)\n",
    "    return x, vectoring"
   ]
  },
  {
   "cell_type": "code",
   "execution_count": 4,
   "id": "4923e694-bd47-4034-b676-428826ec7a02",
   "metadata": {},
   "outputs": [],
   "source": [
    "from sklearn.neural_network import MLPClassifier\n",
    "from sklearn.model_selection import train_test_split\n",
    "from sklearn import metrics\n",
    "import numpy as np"
   ]
  },
  {
   "cell_type": "code",
   "execution_count": 5,
   "id": "7e36d183-cd9c-4ced-a826-addccdfd6ccc",
   "metadata": {},
   "outputs": [],
   "source": [
    "def get_label_list(label_file_name): #获取标签列表\n",
    "    content = open(label_file_name, 'r', encoding='utf8').readlines()\n",
    "    return content"
   ]
  },
  {
   "cell_type": "code",
   "execution_count": 6,
   "id": "2aaea9b3-afa2-41a0-93c8-d40e34150353",
   "metadata": {},
   "outputs": [
    {
     "name": "stderr",
     "output_type": "stream",
     "text": [
      "Building prefix dict from the default dictionary ...\n",
      "Loading model from cache C:\\Users\\Lenovo\\AppData\\Local\\Temp\\jieba.cache\n",
      "Loading model cost 0.625 seconds.\n",
      "Prefix dict has been built succesfully.\n"
     ]
    },
    {
     "name": "stdout",
     "output_type": "stream",
     "text": [
      "Accuracy: 0.9675925925925926\n"
     ]
    }
   ],
   "source": [
    "if __name__ == \"__main__\":\n",
    "    np.random.seed(1)\n",
    "    email_file_name = 'content.txt'\n",
    "    label_file_name = 'labels.txt'\n",
    "    x, vectoring = get_data_tf_idf(email_file_name)\n",
    "    y = get_label_list(label_file_name)\n",
    "    y = np.array(y)\n",
    "\n",
    "    # 随机打乱所有样本\n",
    "    index = np.arange(len(y))\n",
    "    np.random.shuffle(index)\n",
    "    x = x[index]\n",
    "    y = y[index]\n",
    "\n",
    "    # 划分训练集和测试集\n",
    "    x_train, x_test, y_train, y_test = train_test_split(x, y, test_size=0.2)\n",
    "\n",
    "    mlp = MLPClassifier()\n",
    "    mlp.fit(x_train, y_train)\n",
    "    y_pred = mlp.predict(x_test)\n",
    "    print('Accuracy:', metrics.accuracy_score(y_test, y_pred))"
   ]
  }
 ],
 "metadata": {
  "kernelspec": {
   "display_name": "Python 3 (ipykernel)",
   "language": "python",
   "name": "python3"
  },
  "language_info": {
   "codemirror_mode": {
    "name": "ipython",
    "version": 3
   },
   "file_extension": ".py",
   "mimetype": "text/x-python",
   "name": "python",
   "nbconvert_exporter": "python",
   "pygments_lexer": "ipython3",
   "version": "3.9.9"
  }
 },
 "nbformat": 4,
 "nbformat_minor": 5
}
