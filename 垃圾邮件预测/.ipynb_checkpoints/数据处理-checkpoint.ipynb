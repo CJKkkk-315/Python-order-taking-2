{
 "cells": [
  {
   "cell_type": "code",
   "execution_count": null,
   "id": "18d698eb-bd00-4ec2-b4dd-77ec76f73bbd",
   "metadata": {},
   "outputs": [],
   "source": [
    "import re\n",
    "import jieba\n",
    "import pandas as pd"
   ]
  },
  {
   "cell_type": "code",
   "execution_count": null,
   "id": "dd6cadf0-b91c-4366-b796-674300839374",
   "metadata": {},
   "outputs": [],
   "source": [
    "# 去掉非中文字符\n",
    "def clean_str(string):\n",
    "    string = re.sub(r\"[^\\u4e00-\\u9fff]\", \" \", string)\n",
    "    string = re.sub(r\"\\s{2,}\", \" \", string)\n",
    "    return string.strip()"
   ]
  },
  {
   "cell_type": "code",
   "execution_count": null,
   "id": "c9f1ffff-8e55-4f3a-9e4a-0c8ca8b3b618",
   "metadata": {},
   "outputs": [],
   "source": [
    "# 读取xlsx评论表格\n",
    "df = pd.read_excel('产品评价.xlsx')\n",
    "data = df.values.tolist()"
   ]
  },
  {
   "cell_type": "code",
   "execution_count": null,
   "id": "773c1975-8866-4477-9d02-3d6e83296b67",
   "metadata": {},
   "outputs": [],
   "source": [
    "# 分别将评论内容和好差评标签存入txt文件中\n",
    "f1 = open('content.txt','w',encoding='utf-8')\n",
    "f2 = open('labels.txt','w',encoding='utf-8')\n",
    "for i in data:\n",
    "    f1.write(clean_str(i[1])+'\\n')\n",
    "    f2.write(str(i[2])+'\\n')\n",
    "f1.close()\n",
    "f2.close()"
   ]
  }
 ],
 "metadata": {
  "kernelspec": {
   "display_name": "Python 3 (ipykernel)",
   "language": "python",
   "name": "python3"
  },
  "language_info": {
   "codemirror_mode": {
    "name": "ipython",
    "version": 3
   },
   "file_extension": ".py",
   "mimetype": "text/x-python",
   "name": "python",
   "nbconvert_exporter": "python",
   "pygments_lexer": "ipython3",
   "version": "3.9.9"
  }
 },
 "nbformat": 4,
 "nbformat_minor": 5
}
