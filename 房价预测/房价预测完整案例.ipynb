{
 "cells": [
  {
   "cell_type": "markdown",
   "metadata": {},
   "source": [
    "## 1. 获取数据"
   ]
  },
  {
   "cell_type": "code",
   "execution_count": 1,
   "metadata": {
    "ExecuteTime": {
     "end_time": "2021-06-02T12:38:08.146231Z",
     "start_time": "2021-06-02T12:38:06.421161Z"
    }
   },
   "outputs": [],
   "source": [
    "import os\n",
    "import tarfile\n",
    "import urllib.request\n",
    "\n",
    "DOWNLOAD_ROOT = \"https://raw.githubusercontent.com/ageron/handson-ml2/master/\"\n",
    "HOUSING_PATH = os.path.join(\"datasets\", \"housing\")    # datasets\\test\n",
    "HOUSING_URL = DOWNLOAD_ROOT + \"datasets/housing/housing.tgz\"\n",
    "\n",
    "# def fetch_housing_data(housing_url=HOUSING_URL, housing_path=HOUSING_PATH):\n",
    "#     # 创建目录\n",
    "#     if not os.path.isdir(housing_path):\n",
    "#         os.makedirs(housing_path)\n",
    "#     tgz_path = os.path.join(housing_path, \"housing.tgz\")    # datasets\\test\\housing.tgz\n",
    "#     # 将housing_url下载的文件保存到tgz_path路径\n",
    "#     urllib.request.urlretrieve(housing_url, tgz_path)\n",
    "#     housing_tgz = tarfile.open(tgz_path)\n",
    "#     # 解压到housing_path路径\n",
    "#     housing_tgz.extractall(path=housing_path)\n",
    "#     housing_tgz.close()\n",
    "    \n",
    "# fetch_housing_data()"
   ]
  },
  {
   "cell_type": "code",
   "execution_count": 2,
   "metadata": {
    "ExecuteTime": {
     "end_time": "2021-06-02T12:38:10.416152Z",
     "start_time": "2021-06-02T12:38:09.550742Z"
    }
   },
   "outputs": [],
   "source": [
    "import pandas as pd\n",
    "\n",
    "def load_housing_data(housing_path=HOUSING_PATH):\n",
    "    housing_path = ''\n",
    "    csv_path = os.path.join(housing_path, \"housing.csv\")\n",
    "    return pd.read_csv(csv_path)\n",
    "\n",
    "housing = load_housing_data()"
   ]
  },
  {
   "cell_type": "code",
   "execution_count": 3,
   "metadata": {
    "ExecuteTime": {
     "end_time": "2021-06-02T12:38:11.437234Z",
     "start_time": "2021-06-02T12:38:11.399149Z"
    }
   },
   "outputs": [
    {
     "data": {
      "text/html": [
       "<div>\n",
       "<style scoped>\n",
       "    .dataframe tbody tr th:only-of-type {\n",
       "        vertical-align: middle;\n",
       "    }\n",
       "\n",
       "    .dataframe tbody tr th {\n",
       "        vertical-align: top;\n",
       "    }\n",
       "\n",
       "    .dataframe thead th {\n",
       "        text-align: right;\n",
       "    }\n",
       "</style>\n",
       "<table border=\"1\" class=\"dataframe\">\n",
       "  <thead>\n",
       "    <tr style=\"text-align: right;\">\n",
       "      <th></th>\n",
       "      <th>side</th>\n",
       "      <th>age</th>\n",
       "      <th>area</th>\n",
       "      <th>mortgage</th>\n",
       "      <th>subway</th>\n",
       "      <th>hospital</th>\n",
       "      <th>school</th>\n",
       "      <th>price</th>\n",
       "      <th>ocean_proximity</th>\n",
       "    </tr>\n",
       "  </thead>\n",
       "  <tbody>\n",
       "    <tr>\n",
       "      <th>0</th>\n",
       "      <td>0</td>\n",
       "      <td>2014</td>\n",
       "      <td>59.19</td>\n",
       "      <td>1</td>\n",
       "      <td>0</td>\n",
       "      <td>1</td>\n",
       "      <td>1</td>\n",
       "      <td>13609</td>\n",
       "      <td>NEAR BAY</td>\n",
       "    </tr>\n",
       "    <tr>\n",
       "      <th>1</th>\n",
       "      <td>1</td>\n",
       "      <td>2014</td>\n",
       "      <td>158.72</td>\n",
       "      <td>1</td>\n",
       "      <td>1</td>\n",
       "      <td>1</td>\n",
       "      <td>1</td>\n",
       "      <td>15345</td>\n",
       "      <td>NEAR BAY</td>\n",
       "    </tr>\n",
       "    <tr>\n",
       "      <th>2</th>\n",
       "      <td>0</td>\n",
       "      <td>2011</td>\n",
       "      <td>87.08</td>\n",
       "      <td>1</td>\n",
       "      <td>0</td>\n",
       "      <td>1</td>\n",
       "      <td>1</td>\n",
       "      <td>13609</td>\n",
       "      <td>INLAND</td>\n",
       "    </tr>\n",
       "    <tr>\n",
       "      <th>3</th>\n",
       "      <td>1</td>\n",
       "      <td>2018</td>\n",
       "      <td>101.32</td>\n",
       "      <td>1</td>\n",
       "      <td>0</td>\n",
       "      <td>1</td>\n",
       "      <td>1</td>\n",
       "      <td>14486</td>\n",
       "      <td>INLAND</td>\n",
       "    </tr>\n",
       "    <tr>\n",
       "      <th>4</th>\n",
       "      <td>0</td>\n",
       "      <td>2012</td>\n",
       "      <td>78.89</td>\n",
       "      <td>0</td>\n",
       "      <td>0</td>\n",
       "      <td>1</td>\n",
       "      <td>1</td>\n",
       "      <td>13609</td>\n",
       "      <td>&lt;1H OCEAN</td>\n",
       "    </tr>\n",
       "  </tbody>\n",
       "</table>\n",
       "</div>"
      ],
      "text/plain": [
       "   side   age    area  mortgage  subway  hospital  school  price  \\\n",
       "0     0  2014   59.19         1       0         1       1  13609   \n",
       "1     1  2014  158.72         1       1         1       1  15345   \n",
       "2     0  2011   87.08         1       0         1       1  13609   \n",
       "3     1  2018  101.32         1       0         1       1  14486   \n",
       "4     0  2012   78.89         0       0         1       1  13609   \n",
       "\n",
       "  ocean_proximity  \n",
       "0        NEAR BAY  \n",
       "1        NEAR BAY  \n",
       "2          INLAND  \n",
       "3          INLAND  \n",
       "4       <1H OCEAN  "
      ]
     },
     "execution_count": 3,
     "metadata": {},
     "output_type": "execute_result"
    }
   ],
   "source": [
    "housing.head()"
   ]
  },
  {
   "cell_type": "code",
   "execution_count": 4,
   "metadata": {
    "ExecuteTime": {
     "end_time": "2021-06-02T12:38:13.117697Z",
     "start_time": "2021-06-02T12:38:13.076679Z"
    }
   },
   "outputs": [
    {
     "name": "stdout",
     "output_type": "stream",
     "text": [
      "<class 'pandas.core.frame.DataFrame'>\n",
      "RangeIndex: 234 entries, 0 to 233\n",
      "Data columns (total 9 columns):\n",
      " #   Column           Non-Null Count  Dtype  \n",
      "---  ------           --------------  -----  \n",
      " 0   side             234 non-null    int64  \n",
      " 1   age              234 non-null    int64  \n",
      " 2   area             234 non-null    float64\n",
      " 3   mortgage         234 non-null    int64  \n",
      " 4   subway           234 non-null    int64  \n",
      " 5   hospital         234 non-null    int64  \n",
      " 6   school           234 non-null    int64  \n",
      " 7   price            234 non-null    int64  \n",
      " 8   ocean_proximity  234 non-null    object \n",
      "dtypes: float64(1), int64(7), object(1)\n",
      "memory usage: 16.6+ KB\n"
     ]
    }
   ],
   "source": [
    "housing.info()"
   ]
  },
  {
   "cell_type": "code",
   "execution_count": 5,
   "metadata": {
    "ExecuteTime": {
     "end_time": "2021-06-02T12:38:14.527081Z",
     "start_time": "2021-06-02T12:38:14.450079Z"
    }
   },
   "outputs": [
    {
     "data": {
      "text/html": [
       "<div>\n",
       "<style scoped>\n",
       "    .dataframe tbody tr th:only-of-type {\n",
       "        vertical-align: middle;\n",
       "    }\n",
       "\n",
       "    .dataframe tbody tr th {\n",
       "        vertical-align: top;\n",
       "    }\n",
       "\n",
       "    .dataframe thead th {\n",
       "        text-align: right;\n",
       "    }\n",
       "</style>\n",
       "<table border=\"1\" class=\"dataframe\">\n",
       "  <thead>\n",
       "    <tr style=\"text-align: right;\">\n",
       "      <th></th>\n",
       "      <th>side</th>\n",
       "      <th>age</th>\n",
       "      <th>area</th>\n",
       "      <th>mortgage</th>\n",
       "      <th>subway</th>\n",
       "      <th>hospital</th>\n",
       "      <th>school</th>\n",
       "      <th>price</th>\n",
       "    </tr>\n",
       "  </thead>\n",
       "  <tbody>\n",
       "    <tr>\n",
       "      <th>count</th>\n",
       "      <td>234.000000</td>\n",
       "      <td>234.000000</td>\n",
       "      <td>234.000000</td>\n",
       "      <td>234.000000</td>\n",
       "      <td>234.000000</td>\n",
       "      <td>234.000000</td>\n",
       "      <td>234.000000</td>\n",
       "      <td>234.000000</td>\n",
       "    </tr>\n",
       "    <tr>\n",
       "      <th>mean</th>\n",
       "      <td>0.645299</td>\n",
       "      <td>2011.329060</td>\n",
       "      <td>89.152906</td>\n",
       "      <td>0.598291</td>\n",
       "      <td>0.602564</td>\n",
       "      <td>0.927350</td>\n",
       "      <td>0.918803</td>\n",
       "      <td>14901.611111</td>\n",
       "    </tr>\n",
       "    <tr>\n",
       "      <th>std</th>\n",
       "      <td>0.479448</td>\n",
       "      <td>3.479963</td>\n",
       "      <td>34.613953</td>\n",
       "      <td>0.491295</td>\n",
       "      <td>0.490417</td>\n",
       "      <td>0.260117</td>\n",
       "      <td>0.273722</td>\n",
       "      <td>2363.524490</td>\n",
       "    </tr>\n",
       "    <tr>\n",
       "      <th>min</th>\n",
       "      <td>0.000000</td>\n",
       "      <td>2000.000000</td>\n",
       "      <td>26.740000</td>\n",
       "      <td>0.000000</td>\n",
       "      <td>0.000000</td>\n",
       "      <td>0.000000</td>\n",
       "      <td>0.000000</td>\n",
       "      <td>10429.000000</td>\n",
       "    </tr>\n",
       "    <tr>\n",
       "      <th>25%</th>\n",
       "      <td>0.000000</td>\n",
       "      <td>2010.000000</td>\n",
       "      <td>60.002500</td>\n",
       "      <td>0.000000</td>\n",
       "      <td>0.000000</td>\n",
       "      <td>1.000000</td>\n",
       "      <td>1.000000</td>\n",
       "      <td>13532.000000</td>\n",
       "    </tr>\n",
       "    <tr>\n",
       "      <th>50%</th>\n",
       "      <td>1.000000</td>\n",
       "      <td>2012.000000</td>\n",
       "      <td>88.365000</td>\n",
       "      <td>1.000000</td>\n",
       "      <td>1.000000</td>\n",
       "      <td>1.000000</td>\n",
       "      <td>1.000000</td>\n",
       "      <td>14437.000000</td>\n",
       "    </tr>\n",
       "    <tr>\n",
       "      <th>75%</th>\n",
       "      <td>1.000000</td>\n",
       "      <td>2013.750000</td>\n",
       "      <td>103.317500</td>\n",
       "      <td>1.000000</td>\n",
       "      <td>1.000000</td>\n",
       "      <td>1.000000</td>\n",
       "      <td>1.000000</td>\n",
       "      <td>15991.000000</td>\n",
       "    </tr>\n",
       "    <tr>\n",
       "      <th>max</th>\n",
       "      <td>1.000000</td>\n",
       "      <td>2019.000000</td>\n",
       "      <td>237.730000</td>\n",
       "      <td>1.000000</td>\n",
       "      <td>1.000000</td>\n",
       "      <td>1.000000</td>\n",
       "      <td>1.000000</td>\n",
       "      <td>29675.000000</td>\n",
       "    </tr>\n",
       "  </tbody>\n",
       "</table>\n",
       "</div>"
      ],
      "text/plain": [
       "             side          age        area    mortgage      subway  \\\n",
       "count  234.000000   234.000000  234.000000  234.000000  234.000000   \n",
       "mean     0.645299  2011.329060   89.152906    0.598291    0.602564   \n",
       "std      0.479448     3.479963   34.613953    0.491295    0.490417   \n",
       "min      0.000000  2000.000000   26.740000    0.000000    0.000000   \n",
       "25%      0.000000  2010.000000   60.002500    0.000000    0.000000   \n",
       "50%      1.000000  2012.000000   88.365000    1.000000    1.000000   \n",
       "75%      1.000000  2013.750000  103.317500    1.000000    1.000000   \n",
       "max      1.000000  2019.000000  237.730000    1.000000    1.000000   \n",
       "\n",
       "         hospital      school         price  \n",
       "count  234.000000  234.000000    234.000000  \n",
       "mean     0.927350    0.918803  14901.611111  \n",
       "std      0.260117    0.273722   2363.524490  \n",
       "min      0.000000    0.000000  10429.000000  \n",
       "25%      1.000000    1.000000  13532.000000  \n",
       "50%      1.000000    1.000000  14437.000000  \n",
       "75%      1.000000    1.000000  15991.000000  \n",
       "max      1.000000    1.000000  29675.000000  "
      ]
     },
     "execution_count": 5,
     "metadata": {},
     "output_type": "execute_result"
    }
   ],
   "source": [
    "housing.describe()"
   ]
  },
  {
   "cell_type": "code",
   "execution_count": 6,
   "metadata": {
    "ExecuteTime": {
     "end_time": "2021-06-02T12:38:19.745115Z",
     "start_time": "2021-06-02T12:38:15.682134Z"
    }
   },
   "outputs": [
    {
     "data": {
      "text/plain": [
       "array([[<AxesSubplot:title={'center':'side'}>,\n",
       "        <AxesSubplot:title={'center':'age'}>,\n",
       "        <AxesSubplot:title={'center':'area'}>],\n",
       "       [<AxesSubplot:title={'center':'mortgage'}>,\n",
       "        <AxesSubplot:title={'center':'subway'}>,\n",
       "        <AxesSubplot:title={'center':'hospital'}>],\n",
       "       [<AxesSubplot:title={'center':'school'}>,\n",
       "        <AxesSubplot:title={'center':'price'}>, <AxesSubplot:>]],\n",
       "      dtype=object)"
      ]
     },
     "execution_count": 6,
     "metadata": {},
     "output_type": "execute_result"
    },
    {
     "data": {
      "image/png": "[encoded data removed]",
      "text/plain": [
       "<Figure size 1440x1080 with 9 Axes>"
      ]
     },
     "metadata": {
      "needs_background": "light"
     },
     "output_type": "display_data"
    }
   ],
   "source": [
    "import matplotlib.pyplot as plt\n",
    "# 绘制直方图\n",
    "housing.hist(bins=50, figsize=(20,15))\n",
    "# 保存图片\n",
    "# plt.savefig(\"attribute_histogram_plots.png\", dpi=300)"
   ]
  },
  {
   "cell_type": "markdown",
   "metadata": {},
   "source": [
    "## 2. 划分测试集"
   ]
  },
  {
   "cell_type": "code",
   "execution_count": 7,
   "metadata": {
    "ExecuteTime": {
     "end_time": "2021-06-02T12:38:30.276705Z",
     "start_time": "2021-06-02T12:38:29.936181Z"
    }
   },
   "outputs": [
    {
     "data": {
      "text/plain": [
       "<AxesSubplot:>"
      ]
     },
     "execution_count": 7,
     "metadata": {},
     "output_type": "execute_result"
    },
    {
     "data": {
      "image/png": "[encoded data removed]",
      "text/plain": [
       "<Figure size 432x288 with 1 Axes>"
      ]
     },
     "metadata": {
      "needs_background": "light"
     },
     "output_type": "display_data"
    }
   ],
   "source": [
    "import numpy as np\n",
    "\n",
    "housing[\"income_cat\"] = pd.cut(housing[\"area\"],\n",
    "                               bins=[0., 50.0, 150.0, 200.0, 300., np.inf],\n",
    "                               labels=[1, 2, 3, 4, 5])\n",
    "# 根据income_cat数据绘制直方图                   \n",
    "housing[\"income_cat\"].hist()"
   ]
  },
  {
   "cell_type": "code",
   "execution_count": 8,
   "metadata": {
    "ExecuteTime": {
     "end_time": "2021-06-02T12:38:34.285622Z",
     "start_time": "2021-06-02T12:38:31.815575Z"
    }
   },
   "outputs": [],
   "source": [
    "from sklearn.model_selection import StratifiedShuffleSplit\n",
    "\n",
    "s = StratifiedShuffleSplit(n_splits=1, test_size=0.2, random_state=42)\n",
    "for train_index, test_index in s.split(housing, housing[\"income_cat\"]):\n",
    "    # train_index: [17606 18632 14650 ... 13908 11159 15775]\n",
    "    strat_train_set = housing.loc[train_index]\n",
    "    # test_index: [5241 10970 20351 ...  4019 12107  2398]\n",
    "    strat_test_set = housing.loc[test_index]\n",
    "\n",
    "for dataset in (strat_train_set, strat_test_set):\n",
    "    dataset.drop(\"income_cat\", axis=1, inplace=True)\n",
    "housing_train = strat_train_set.copy()"
   ]
  },
  {
   "cell_type": "markdown",
   "metadata": {
    "ExecuteTime": {
     "end_time": "2021-06-02T12:26:27.607853Z",
     "start_time": "2021-06-02T12:26:27.597854Z"
    }
   },
   "source": [
    "## 4.寻找相关性"
   ]
  },
  {
   "cell_type": "code",
   "execution_count": 9,
   "metadata": {
    "ExecuteTime": {
     "end_time": "2021-06-02T12:38:41.538181Z",
     "start_time": "2021-06-02T12:38:41.505187Z"
    }
   },
   "outputs": [
    {
     "data": {
      "text/html": [
       "<div>\n",
       "<style scoped>\n",
       "    .dataframe tbody tr th:only-of-type {\n",
       "        vertical-align: middle;\n",
       "    }\n",
       "\n",
       "    .dataframe tbody tr th {\n",
       "        vertical-align: top;\n",
       "    }\n",
       "\n",
       "    .dataframe thead th {\n",
       "        text-align: right;\n",
       "    }\n",
       "</style>\n",
       "<table border=\"1\" class=\"dataframe\">\n",
       "  <thead>\n",
       "    <tr style=\"text-align: right;\">\n",
       "      <th></th>\n",
       "      <th>side</th>\n",
       "      <th>age</th>\n",
       "      <th>area</th>\n",
       "      <th>mortgage</th>\n",
       "      <th>subway</th>\n",
       "      <th>hospital</th>\n",
       "      <th>school</th>\n",
       "      <th>price</th>\n",
       "    </tr>\n",
       "  </thead>\n",
       "  <tbody>\n",
       "    <tr>\n",
       "      <th>side</th>\n",
       "      <td>1.000000</td>\n",
       "      <td>-0.042690</td>\n",
       "      <td>0.492275</td>\n",
       "      <td>-0.038873</td>\n",
       "      <td>-0.225877</td>\n",
       "      <td>0.143046</td>\n",
       "      <td>0.007226</td>\n",
       "      <td>-0.070549</td>\n",
       "    </tr>\n",
       "    <tr>\n",
       "      <th>age</th>\n",
       "      <td>-0.042690</td>\n",
       "      <td>1.000000</td>\n",
       "      <td>-0.081916</td>\n",
       "      <td>0.201453</td>\n",
       "      <td>-0.209753</td>\n",
       "      <td>-0.144719</td>\n",
       "      <td>-0.129413</td>\n",
       "      <td>-0.021110</td>\n",
       "    </tr>\n",
       "    <tr>\n",
       "      <th>area</th>\n",
       "      <td>0.492275</td>\n",
       "      <td>-0.081916</td>\n",
       "      <td>1.000000</td>\n",
       "      <td>-0.133303</td>\n",
       "      <td>-0.194325</td>\n",
       "      <td>0.205655</td>\n",
       "      <td>-0.065820</td>\n",
       "      <td>-0.141331</td>\n",
       "    </tr>\n",
       "    <tr>\n",
       "      <th>mortgage</th>\n",
       "      <td>-0.038873</td>\n",
       "      <td>0.201453</td>\n",
       "      <td>-0.133303</td>\n",
       "      <td>1.000000</td>\n",
       "      <td>-0.121634</td>\n",
       "      <td>-0.148642</td>\n",
       "      <td>0.048018</td>\n",
       "      <td>-0.078757</td>\n",
       "    </tr>\n",
       "    <tr>\n",
       "      <th>subway</th>\n",
       "      <td>-0.225877</td>\n",
       "      <td>-0.209753</td>\n",
       "      <td>-0.194325</td>\n",
       "      <td>-0.121634</td>\n",
       "      <td>1.000000</td>\n",
       "      <td>-0.228689</td>\n",
       "      <td>0.365606</td>\n",
       "      <td>0.357103</td>\n",
       "    </tr>\n",
       "    <tr>\n",
       "      <th>hospital</th>\n",
       "      <td>0.143046</td>\n",
       "      <td>-0.144719</td>\n",
       "      <td>0.205655</td>\n",
       "      <td>-0.148642</td>\n",
       "      <td>-0.228689</td>\n",
       "      <td>1.000000</td>\n",
       "      <td>-0.083610</td>\n",
       "      <td>0.027700</td>\n",
       "    </tr>\n",
       "    <tr>\n",
       "      <th>school</th>\n",
       "      <td>0.007226</td>\n",
       "      <td>-0.129413</td>\n",
       "      <td>-0.065820</td>\n",
       "      <td>0.048018</td>\n",
       "      <td>0.365606</td>\n",
       "      <td>-0.083610</td>\n",
       "      <td>1.000000</td>\n",
       "      <td>0.169438</td>\n",
       "    </tr>\n",
       "    <tr>\n",
       "      <th>price</th>\n",
       "      <td>-0.070549</td>\n",
       "      <td>-0.021110</td>\n",
       "      <td>-0.141331</td>\n",
       "      <td>-0.078757</td>\n",
       "      <td>0.357103</td>\n",
       "      <td>0.027700</td>\n",
       "      <td>0.169438</td>\n",
       "      <td>1.000000</td>\n",
       "    </tr>\n",
       "  </tbody>\n",
       "</table>\n",
       "</div>"
      ],
      "text/plain": [
       "              side       age      area  mortgage    subway  hospital  \\\n",
       "side      1.000000 -0.042690  0.492275 -0.038873 -0.225877  0.143046   \n",
       "age      -0.042690  1.000000 -0.081916  0.201453 -0.209753 -0.144719   \n",
       "area      0.492275 -0.081916  1.000000 -0.133303 -0.194325  0.205655   \n",
       "mortgage -0.038873  0.201453 -0.133303  1.000000 -0.121634 -0.148642   \n",
       "subway   -0.225877 -0.209753 -0.194325 -0.121634  1.000000 -0.228689   \n",
       "hospital  0.143046 -0.144719  0.205655 -0.148642 -0.228689  1.000000   \n",
       "school    0.007226 -0.129413 -0.065820  0.048018  0.365606 -0.083610   \n",
       "price    -0.070549 -0.021110 -0.141331 -0.078757  0.357103  0.027700   \n",
       "\n",
       "            school     price  \n",
       "side      0.007226 -0.070549  \n",
       "age      -0.129413 -0.021110  \n",
       "area     -0.065820 -0.141331  \n",
       "mortgage  0.048018 -0.078757  \n",
       "subway    0.365606  0.357103  \n",
       "hospital -0.083610  0.027700  \n",
       "school    1.000000  0.169438  \n",
       "price     0.169438  1.000000  "
      ]
     },
     "execution_count": 9,
     "metadata": {},
     "output_type": "execute_result"
    }
   ],
   "source": [
    "corr_matrix = housing_train.corr()\n",
    "corr_matrix "
   ]
  },
  {
   "cell_type": "code",
   "execution_count": 10,
   "metadata": {
    "ExecuteTime": {
     "end_time": "2021-06-02T12:38:43.135823Z",
     "start_time": "2021-06-02T12:38:43.112826Z"
    }
   },
   "outputs": [
    {
     "data": {
      "text/plain": [
       "price       1.000000\n",
       "subway      0.357103\n",
       "school      0.169438\n",
       "hospital    0.027700\n",
       "age        -0.021110\n",
       "side       -0.070549\n",
       "mortgage   -0.078757\n",
       "area       -0.141331\n",
       "Name: price, dtype: float64"
      ]
     },
     "execution_count": 10,
     "metadata": {},
     "output_type": "execute_result"
    }
   ],
   "source": [
    "corr_matrix[\"price\"].sort_values(ascending=False)"
   ]
  },
  {
   "cell_type": "markdown",
   "metadata": {},
   "source": [
    "## 5. 属性组合"
   ]
  },
  {
   "cell_type": "code",
   "execution_count": 11,
   "metadata": {
    "ExecuteTime": {
     "end_time": "2021-06-02T12:38:51.939461Z",
     "start_time": "2021-06-02T12:38:51.905524Z"
    }
   },
   "outputs": [
    {
     "data": {
      "text/plain": [
       "price                1.000000\n",
       "subway               0.357103\n",
       "subway_per_age       0.356994\n",
       "school               0.169438\n",
       "hospital_per_area    0.169119\n",
       "age_per_area         0.155492\n",
       "hospital             0.027700\n",
       "age                 -0.021110\n",
       "side                -0.070549\n",
       "mortgage            -0.078757\n",
       "area                -0.141331\n",
       "Name: price, dtype: float64"
      ]
     },
     "execution_count": 11,
     "metadata": {},
     "output_type": "execute_result"
    }
   ],
   "source": [
    "housing_train[\"age_per_area\"] = housing_train[\"age\"]/housing_train[\"area\"]\n",
    "housing_train[\"subway_per_age\"] = housing_train[\"subway\"]/housing_train[\"age\"]\n",
    "housing_train[\"hospital_per_area\"]=housing_train[\"hospital\"]/housing_train[\"area\"]\n",
    "\n",
    "# 计算相关矩阵\n",
    "corr_matrix = housing_train.corr()\n",
    "corr_matrix[\"price\"].sort_values(ascending=False)"
   ]
  },
  {
   "cell_type": "markdown",
   "metadata": {},
   "source": [
    "## 6. 数据处理\n",
    "### 6.1 数据清洗"
   ]
  },
  {
   "cell_type": "code",
   "execution_count": 12,
   "metadata": {
    "ExecuteTime": {
     "end_time": "2021-06-02T12:38:53.697177Z",
     "start_time": "2021-06-02T12:38:53.530267Z"
    }
   },
   "outputs": [],
   "source": [
    "# 获取删除标签列后的数据集\n",
    "housing = strat_train_set.drop(\"price\", axis=1)\n",
    "# 标签列\n",
    "housing_labels = strat_train_set[\"price\"].copy()\n",
    "\n",
    "from sklearn.impute import SimpleImputer\n",
    "\n",
    "# 创建SimpleImputer实例，设置中位数替换\n",
    "imputer = SimpleImputer(strategy=\"median\")\n",
    "# 创建一个没有文本属性\"ocean_proximity\"的数据集\n",
    "housing_num = housing.drop(\"ocean_proximity\", axis=1)\n",
    "# 将imputer实例适配到housing_num\n",
    "imputer.fit(housing_num)\n",
    "# 执行中位数替换缺失值的转化。\n",
    "X = imputer.transform(housing_num)\n",
    "# 将numpy数组转换成DataFrame\n",
    "housing_tr = pd.DataFrame(X, columns=housing_num.columns,\n",
    "                          index=housing.index)"
   ]
  },
  {
   "cell_type": "markdown",
   "metadata": {},
   "source": [
    "### 6.2 处理文本和分类属性"
   ]
  },
  {
   "cell_type": "code",
   "execution_count": 13,
   "metadata": {
    "ExecuteTime": {
     "end_time": "2021-06-02T12:38:55.483246Z",
     "start_time": "2021-06-02T12:38:55.462244Z"
    }
   },
   "outputs": [
    {
     "data": {
      "text/plain": [
       "ocean_proximity\n",
       "NEAR BAY           133\n",
       "<1H OCEAN           27\n",
       "INLAND              27\n",
       "dtype: int64"
      ]
     },
     "execution_count": 13,
     "metadata": {},
     "output_type": "execute_result"
    }
   ],
   "source": [
    "# 注意：[[\"ocean_proximity\"]]获得DataFrame类型的数据，因为后面需要对二维数据进行转化\n",
    "housing_cat = housing[[\"ocean_proximity\"]]\n",
    "housing_cat.value_counts()"
   ]
  },
  {
   "cell_type": "code",
   "execution_count": 14,
   "metadata": {
    "ExecuteTime": {
     "end_time": "2021-06-02T12:38:56.585723Z",
     "start_time": "2021-06-02T12:38:56.552180Z"
    }
   },
   "outputs": [
    {
     "data": {
      "text/plain": [
       "array([[2.],\n",
       "       [1.],\n",
       "       [2.],\n",
       "       [2.],\n",
       "       [2.],\n",
       "       [2.],\n",
       "       [1.],\n",
       "       [1.],\n",
       "       [1.],\n",
       "       [2.]])"
      ]
     },
     "execution_count": 14,
     "metadata": {},
     "output_type": "execute_result"
    }
   ],
   "source": [
    "from sklearn.preprocessing import OrdinalEncoder\n",
    "\n",
    "ordinal_encoder = OrdinalEncoder()\n",
    "# 拟合并转换\n",
    "housing_cat_encoded = ordinal_encoder.fit_transform(housing_cat)\n",
    "housing_cat_encoded[:10]"
   ]
  },
  {
   "cell_type": "code",
   "execution_count": 15,
   "metadata": {
    "ExecuteTime": {
     "end_time": "2021-06-02T12:38:58.285264Z",
     "start_time": "2021-06-02T12:38:58.276693Z"
    }
   },
   "outputs": [
    {
     "data": {
      "text/plain": [
       "[array(['<1H OCEAN', 'INLAND', 'NEAR BAY'], dtype=object)]"
      ]
     },
     "execution_count": 15,
     "metadata": {},
     "output_type": "execute_result"
    }
   ],
   "source": [
    "ordinal_encoder.categories_"
   ]
  },
  {
   "cell_type": "code",
   "execution_count": 16,
   "metadata": {
    "ExecuteTime": {
     "end_time": "2021-06-02T12:38:59.665703Z",
     "start_time": "2021-06-02T12:38:59.636618Z"
    }
   },
   "outputs": [
    {
     "data": {
      "text/plain": [
       "<187x3 sparse matrix of type '<class 'numpy.float64'>'\n",
       "\twith 187 stored elements in Compressed Sparse Row format>"
      ]
     },
     "execution_count": 16,
     "metadata": {},
     "output_type": "execute_result"
    }
   ],
   "source": [
    "from sklearn.preprocessing import OneHotEncoder\n",
    "\n",
    "cat_encoder = OneHotEncoder()\n",
    "housing_cat_1hot = cat_encoder.fit_transform(housing_cat)\n",
    "housing_cat_1hot"
   ]
  },
  {
   "cell_type": "code",
   "execution_count": 17,
   "metadata": {
    "ExecuteTime": {
     "end_time": "2021-06-02T12:39:01.116109Z",
     "start_time": "2021-06-02T12:39:01.103612Z"
    },
    "scrolled": true
   },
   "outputs": [
    {
     "data": {
      "text/plain": [
       "array([[0., 0., 1.],\n",
       "       [0., 1., 0.],\n",
       "       [0., 0., 1.],\n",
       "       [0., 0., 1.],\n",
       "       [0., 0., 1.],\n",
       "       [0., 0., 1.],\n",
       "       [0., 1., 0.],\n",
       "       [0., 1., 0.],\n",
       "       [0., 1., 0.],\n",
       "       [0., 0., 1.],\n",
       "       [1., 0., 0.],\n",
       "       [0., 0., 1.],\n",
       "       [0., 0., 1.],\n",
       "       [1., 0., 0.],\n",
       "       [0., 1., 0.],\n",
       "       [0., 1., 0.],\n",
       "       [0., 0., 1.],\n",
       "       [0., 0., 1.],\n",
       "       [0., 0., 1.],\n",
       "       [0., 0., 1.],\n",
       "       [0., 0., 1.],\n",
       "       [1., 0., 0.],\n",
       "       [0., 0., 1.],\n",
       "       [0., 0., 1.],\n",
       "       [0., 1., 0.],\n",
       "       [0., 0., 1.],\n",
       "       [0., 0., 1.],\n",
       "       [0., 1., 0.],\n",
       "       [1., 0., 0.],\n",
       "       [0., 0., 1.],\n",
       "       [0., 0., 1.],\n",
       "       [0., 0., 1.],\n",
       "       [0., 1., 0.],\n",
       "       [0., 0., 1.],\n",
       "       [0., 1., 0.],\n",
       "       [0., 1., 0.],\n",
       "       [1., 0., 0.],\n",
       "       [0., 0., 1.],\n",
       "       [1., 0., 0.],\n",
       "       [1., 0., 0.],\n",
       "       [1., 0., 0.],\n",
       "       [0., 0., 1.],\n",
       "       [0., 0., 1.],\n",
       "       [0., 1., 0.],\n",
       "       [1., 0., 0.],\n",
       "       [0., 0., 1.],\n",
       "       [0., 0., 1.],\n",
       "       [0., 1., 0.],\n",
       "       [0., 0., 1.],\n",
       "       [0., 0., 1.],\n",
       "       [0., 0., 1.],\n",
       "       [0., 0., 1.],\n",
       "       [0., 0., 1.],\n",
       "       [0., 1., 0.],\n",
       "       [1., 0., 0.],\n",
       "       [0., 0., 1.],\n",
       "       [0., 0., 1.],\n",
       "       [1., 0., 0.],\n",
       "       [1., 0., 0.],\n",
       "       [0., 0., 1.],\n",
       "       [0., 1., 0.],\n",
       "       [0., 0., 1.],\n",
       "       [0., 0., 1.],\n",
       "       [0., 0., 1.],\n",
       "       [0., 0., 1.],\n",
       "       [0., 0., 1.],\n",
       "       [0., 0., 1.],\n",
       "       [0., 0., 1.],\n",
       "       [0., 0., 1.],\n",
       "       [0., 0., 1.],\n",
       "       [0., 0., 1.],\n",
       "       [0., 0., 1.],\n",
       "       [0., 0., 1.],\n",
       "       [0., 0., 1.],\n",
       "       [0., 0., 1.],\n",
       "       [0., 0., 1.],\n",
       "       [0., 0., 1.],\n",
       "       [0., 0., 1.],\n",
       "       [0., 1., 0.],\n",
       "       [0., 0., 1.],\n",
       "       [0., 0., 1.],\n",
       "       [1., 0., 0.],\n",
       "       [0., 0., 1.],\n",
       "       [0., 0., 1.],\n",
       "       [0., 1., 0.],\n",
       "       [0., 0., 1.],\n",
       "       [1., 0., 0.],\n",
       "       [0., 1., 0.],\n",
       "       [0., 0., 1.],\n",
       "       [0., 0., 1.],\n",
       "       [0., 0., 1.],\n",
       "       [0., 0., 1.],\n",
       "       [1., 0., 0.],\n",
       "       [0., 0., 1.],\n",
       "       [0., 0., 1.],\n",
       "       [1., 0., 0.],\n",
       "       [0., 0., 1.],\n",
       "       [0., 0., 1.],\n",
       "       [0., 0., 1.],\n",
       "       [0., 0., 1.],\n",
       "       [0., 0., 1.],\n",
       "       [0., 0., 1.],\n",
       "       [1., 0., 0.],\n",
       "       [0., 0., 1.],\n",
       "       [0., 0., 1.],\n",
       "       [0., 0., 1.],\n",
       "       [0., 0., 1.],\n",
       "       [1., 0., 0.],\n",
       "       [0., 0., 1.],\n",
       "       [0., 0., 1.],\n",
       "       [0., 0., 1.],\n",
       "       [0., 0., 1.],\n",
       "       [0., 0., 1.],\n",
       "       [1., 0., 0.],\n",
       "       [0., 0., 1.],\n",
       "       [0., 0., 1.],\n",
       "       [0., 0., 1.],\n",
       "       [0., 0., 1.],\n",
       "       [0., 0., 1.],\n",
       "       [0., 0., 1.],\n",
       "       [0., 0., 1.],\n",
       "       [0., 0., 1.],\n",
       "       [0., 0., 1.],\n",
       "       [0., 0., 1.],\n",
       "       [0., 0., 1.],\n",
       "       [0., 0., 1.],\n",
       "       [0., 0., 1.],\n",
       "       [0., 0., 1.],\n",
       "       [1., 0., 0.],\n",
       "       [1., 0., 0.],\n",
       "       [0., 1., 0.],\n",
       "       [0., 0., 1.],\n",
       "       [0., 1., 0.],\n",
       "       [0., 1., 0.],\n",
       "       [0., 0., 1.],\n",
       "       [0., 0., 1.],\n",
       "       [1., 0., 0.],\n",
       "       [0., 0., 1.],\n",
       "       [0., 0., 1.],\n",
       "       [0., 0., 1.],\n",
       "       [0., 1., 0.],\n",
       "       [0., 0., 1.],\n",
       "       [0., 0., 1.],\n",
       "       [1., 0., 0.],\n",
       "       [0., 0., 1.],\n",
       "       [0., 1., 0.],\n",
       "       [0., 0., 1.],\n",
       "       [0., 0., 1.],\n",
       "       [1., 0., 0.],\n",
       "       [0., 0., 1.],\n",
       "       [0., 0., 1.],\n",
       "       [0., 1., 0.],\n",
       "       [0., 0., 1.],\n",
       "       [0., 0., 1.],\n",
       "       [0., 0., 1.],\n",
       "       [0., 0., 1.],\n",
       "       [0., 0., 1.],\n",
       "       [0., 0., 1.],\n",
       "       [0., 0., 1.],\n",
       "       [0., 0., 1.],\n",
       "       [0., 1., 0.],\n",
       "       [0., 0., 1.],\n",
       "       [0., 0., 1.],\n",
       "       [0., 0., 1.],\n",
       "       [1., 0., 0.],\n",
       "       [0., 0., 1.],\n",
       "       [0., 0., 1.],\n",
       "       [0., 0., 1.],\n",
       "       [0., 0., 1.],\n",
       "       [0., 0., 1.],\n",
       "       [0., 0., 1.],\n",
       "       [1., 0., 0.],\n",
       "       [0., 0., 1.],\n",
       "       [0., 1., 0.],\n",
       "       [0., 0., 1.],\n",
       "       [0., 0., 1.],\n",
       "       [0., 0., 1.],\n",
       "       [0., 0., 1.],\n",
       "       [0., 0., 1.],\n",
       "       [0., 0., 1.],\n",
       "       [0., 0., 1.],\n",
       "       [0., 0., 1.],\n",
       "       [0., 0., 1.],\n",
       "       [1., 0., 0.],\n",
       "       [0., 0., 1.],\n",
       "       [0., 1., 0.],\n",
       "       [0., 0., 1.]])"
      ]
     },
     "execution_count": 17,
     "metadata": {},
     "output_type": "execute_result"
    }
   ],
   "source": [
    "housing_cat_1hot.toarray()"
   ]
  },
  {
   "cell_type": "markdown",
   "metadata": {},
   "source": [
    "### 6.3 自定义转换器"
   ]
  },
  {
   "cell_type": "code",
   "execution_count": 18,
   "metadata": {
    "ExecuteTime": {
     "end_time": "2021-06-02T12:39:02.701030Z",
     "start_time": "2021-06-02T12:39:02.641600Z"
    }
   },
   "outputs": [
    {
     "data": {
      "text/html": [
       "<div>\n",
       "<style scoped>\n",
       "    .dataframe tbody tr th:only-of-type {\n",
       "        vertical-align: middle;\n",
       "    }\n",
       "\n",
       "    .dataframe tbody tr th {\n",
       "        vertical-align: top;\n",
       "    }\n",
       "\n",
       "    .dataframe thead th {\n",
       "        text-align: right;\n",
       "    }\n",
       "</style>\n",
       "<table border=\"1\" class=\"dataframe\">\n",
       "  <thead>\n",
       "    <tr style=\"text-align: right;\">\n",
       "      <th></th>\n",
       "      <th>side</th>\n",
       "      <th>age</th>\n",
       "      <th>area</th>\n",
       "      <th>mortgage</th>\n",
       "      <th>subway</th>\n",
       "      <th>hospital</th>\n",
       "      <th>school</th>\n",
       "      <th>ocean_proximity</th>\n",
       "      <th>rooms_per_household</th>\n",
       "      <th>population_per_household</th>\n",
       "    </tr>\n",
       "  </thead>\n",
       "  <tbody>\n",
       "    <tr>\n",
       "      <th>210</th>\n",
       "      <td>0</td>\n",
       "      <td>2015</td>\n",
       "      <td>85.2</td>\n",
       "      <td>1</td>\n",
       "      <td>1</td>\n",
       "      <td>1</td>\n",
       "      <td>1</td>\n",
       "      <td>NEAR BAY</td>\n",
       "      <td>23.650235</td>\n",
       "      <td>0.011737</td>\n",
       "    </tr>\n",
       "    <tr>\n",
       "      <th>72</th>\n",
       "      <td>1</td>\n",
       "      <td>2012</td>\n",
       "      <td>103.19</td>\n",
       "      <td>0</td>\n",
       "      <td>0</td>\n",
       "      <td>1</td>\n",
       "      <td>0</td>\n",
       "      <td>INLAND</td>\n",
       "      <td>19.498013</td>\n",
       "      <td>0.009691</td>\n",
       "    </tr>\n",
       "    <tr>\n",
       "      <th>196</th>\n",
       "      <td>1</td>\n",
       "      <td>2008</td>\n",
       "      <td>90.01</td>\n",
       "      <td>1</td>\n",
       "      <td>0</td>\n",
       "      <td>1</td>\n",
       "      <td>1</td>\n",
       "      <td>NEAR BAY</td>\n",
       "      <td>22.308632</td>\n",
       "      <td>0.01111</td>\n",
       "    </tr>\n",
       "    <tr>\n",
       "      <th>30</th>\n",
       "      <td>1</td>\n",
       "      <td>2000</td>\n",
       "      <td>135.61</td>\n",
       "      <td>0</td>\n",
       "      <td>1</td>\n",
       "      <td>1</td>\n",
       "      <td>1</td>\n",
       "      <td>NEAR BAY</td>\n",
       "      <td>14.748175</td>\n",
       "      <td>0.007374</td>\n",
       "    </tr>\n",
       "    <tr>\n",
       "      <th>26</th>\n",
       "      <td>1</td>\n",
       "      <td>2009</td>\n",
       "      <td>92.95</td>\n",
       "      <td>1</td>\n",
       "      <td>1</td>\n",
       "      <td>1</td>\n",
       "      <td>1</td>\n",
       "      <td>NEAR BAY</td>\n",
       "      <td>21.613771</td>\n",
       "      <td>0.010758</td>\n",
       "    </tr>\n",
       "  </tbody>\n",
       "</table>\n",
       "</div>"
      ],
      "text/plain": [
       "    side   age    area mortgage subway hospital school ocean_proximity  \\\n",
       "210    0  2015    85.2        1      1        1      1        NEAR BAY   \n",
       "72     1  2012  103.19        0      0        1      0          INLAND   \n",
       "196    1  2008   90.01        1      0        1      1        NEAR BAY   \n",
       "30     1  2000  135.61        0      1        1      1        NEAR BAY   \n",
       "26     1  2009   92.95        1      1        1      1        NEAR BAY   \n",
       "\n",
       "    rooms_per_household population_per_household  \n",
       "210           23.650235                 0.011737  \n",
       "72            19.498013                 0.009691  \n",
       "196           22.308632                  0.01111  \n",
       "30            14.748175                 0.007374  \n",
       "26            21.613771                 0.010758  "
      ]
     },
     "execution_count": 18,
     "metadata": {},
     "output_type": "execute_result"
    }
   ],
   "source": [
    "from sklearn.base import BaseEstimator, TransformerMixin\n",
    "\n",
    "# 选取列名\n",
    "col_names = [\"age\", \"subway\", \"hospital\", \"area\"]\n",
    "rooms_ix, bedrooms_ix, population_ix, households_ix = [housing.columns.get_loc(c) for c in col_names]\n",
    "\n",
    "class CombinedAttributesAdder(BaseEstimator, TransformerMixin):\n",
    "    def __init__(self, add_bedrooms_per_room=True): # no *args or **kargs\n",
    "        self.add_bedrooms_per_room = add_bedrooms_per_room\n",
    "        \n",
    "    def fit(self, X, y=None):\n",
    "        return self\n",
    "    \n",
    "    def transform(self, X):\n",
    "        rooms_per_household = X[:, rooms_ix] / X[:, households_ix]\n",
    "        population_per_household = X[:, population_ix] / X[:, households_ix]\n",
    "        # 根据超参数add_bedrooms_per_room判断是否需要添加该组合属性\n",
    "        if self.add_bedrooms_per_room:\n",
    "            bedrooms_per_room = X[:, bedrooms_ix] / X[:, rooms_ix]\n",
    "            return np.c_[X, rooms_per_household, population_per_household,\n",
    "                         bedrooms_per_room]\n",
    "        else:\n",
    "            return np.c_[X, rooms_per_household, population_per_household]\n",
    "\n",
    "attr_adder = CombinedAttributesAdder(add_bedrooms_per_room=False)\n",
    "housing_extra_attribs = attr_adder.transform(housing.values)\n",
    "\n",
    "# 将housing_extra_attribs从array转为DataFrame\n",
    "housing_extra_attribs = pd.DataFrame(\n",
    "    housing_extra_attribs,\n",
    "    columns=list(housing.columns)+[\"rooms_per_household\", \"population_per_household\"],\n",
    "    index=housing.index)\n",
    "housing_extra_attribs.head()"
   ]
  },
  {
   "cell_type": "markdown",
   "metadata": {},
   "source": [
    "### 6.4 流水线式数据转换"
   ]
  },
  {
   "cell_type": "code",
   "execution_count": 19,
   "metadata": {
    "ExecuteTime": {
     "end_time": "2021-06-02T12:39:04.699432Z",
     "start_time": "2021-06-02T12:39:04.631373Z"
    }
   },
   "outputs": [
    {
     "data": {
      "text/plain": [
       "array([[-1.32287566,  1.01576253, -0.11991245, ..., -0.24630801,\n",
       "        -0.01682601,  0.83247193],\n",
       "       [ 0.75592895,  0.15367058,  0.38618616, ..., -0.60516918,\n",
       "        -0.35214689, -1.19522483],\n",
       "       [ 0.75592895, -0.99578535,  0.01540352, ..., -0.36225775,\n",
       "        -0.11960903, -1.19522483],\n",
       "       ...,\n",
       "       [ 0.75592895, -2.14524128,  2.17764585, ..., -1.25238683,\n",
       "        -0.95817645,  0.843602  ],\n",
       "       [-1.32287566,  0.44103456, -1.30118432, ...,  1.7359834 ,\n",
       "        -1.94021462,  0.83448653],\n",
       "       [ 0.75592895,  2.16521845,  0.39096864, ..., -0.60208761,\n",
       "        -0.35475884, -1.19522483]])"
      ]
     },
     "execution_count": 19,
     "metadata": {},
     "output_type": "execute_result"
    }
   ],
   "source": [
    "from sklearn.pipeline import Pipeline\n",
    "from sklearn.preprocessing import StandardScaler\n",
    "\n",
    "num_pipeline = Pipeline([\n",
    "\t\t# 中位数替换缺失值\n",
    "        ('imputer', SimpleImputer(strategy=\"median\")),\n",
    "        # 添加组合属性\n",
    "        ('attribs_adder', CombinedAttributesAdder()),\n",
    "        # 归一化，统一量纲\n",
    "        ('std_scaler', StandardScaler()),\n",
    "    ])\n",
    "\n",
    "housing_num_tr = num_pipeline.fit_transform(housing_num)\n",
    "housing_num_tr"
   ]
  },
  {
   "cell_type": "code",
   "execution_count": 20,
   "metadata": {
    "ExecuteTime": {
     "end_time": "2021-06-02T12:39:06.658167Z",
     "start_time": "2021-06-02T12:39:06.585861Z"
    }
   },
   "outputs": [
    {
     "data": {
      "text/plain": [
       "array([[-1.32287566,  1.01576253, -0.11991245, ...,  0.        ,\n",
       "         0.        ,  1.        ],\n",
       "       [ 0.75592895,  0.15367058,  0.38618616, ...,  0.        ,\n",
       "         1.        ,  0.        ],\n",
       "       [ 0.75592895, -0.99578535,  0.01540352, ...,  0.        ,\n",
       "         0.        ,  1.        ],\n",
       "       ...,\n",
       "       [ 0.75592895, -2.14524128,  2.17764585, ...,  0.        ,\n",
       "         0.        ,  1.        ],\n",
       "       [-1.32287566,  0.44103456, -1.30118432, ...,  0.        ,\n",
       "         1.        ,  0.        ],\n",
       "       [ 0.75592895,  2.16521845,  0.39096864, ...,  0.        ,\n",
       "         0.        ,  1.        ]])"
      ]
     },
     "execution_count": 20,
     "metadata": {},
     "output_type": "execute_result"
    }
   ],
   "source": [
    "from sklearn.compose import ColumnTransformer\n",
    "\n",
    "# 获得数值列名称列表\n",
    "num_attribs = list(housing_num)\n",
    "# 获得类别列名称列表\n",
    "cat_attribs = [\"ocean_proximity\"]\n",
    "\n",
    "# 元组中的三个参数分别代表：名称（自定），转换器，以及一个该转换器能够应用的列名字（或索引）的列表\n",
    "full_pipeline = ColumnTransformer([\n",
    "\t\t# 数值属性列转换器\n",
    "        (\"num\", num_pipeline, num_attribs),\n",
    "        # 文本属性列转换器\n",
    "        (\"cat\", OneHotEncoder(), cat_attribs),\n",
    "    ])\n",
    "# 将ColumnTranformer应用到房屋数据\n",
    "housing_prepared = full_pipeline.fit_transform(housing)\n",
    "housing_prepared"
   ]
  },
  {
   "cell_type": "markdown",
   "metadata": {},
   "source": [
    "## 7. 选择和训练模型\n",
    "### 7.1 训练和评估训练集"
   ]
  },
  {
   "cell_type": "code",
   "execution_count": 21,
   "metadata": {
    "ExecuteTime": {
     "end_time": "2021-06-02T12:39:08.553785Z",
     "start_time": "2021-06-02T12:39:08.533674Z"
    }
   },
   "outputs": [
    {
     "data": {
      "text/plain": [
       "LinearRegression()"
      ]
     },
     "execution_count": 21,
     "metadata": {},
     "output_type": "execute_result"
    }
   ],
   "source": [
    "from sklearn.linear_model import LinearRegression\n",
    "\n",
    "lin_reg = LinearRegression()\n",
    "# 模型训练\n",
    "lin_reg.fit(housing_prepared, housing_labels)"
   ]
  },
  {
   "cell_type": "code",
   "execution_count": 22,
   "metadata": {
    "ExecuteTime": {
     "end_time": "2021-06-02T12:39:10.006325Z",
     "start_time": "2021-06-02T12:39:09.988692Z"
    }
   },
   "outputs": [
    {
     "name": "stdout",
     "output_type": "stream",
     "text": [
      "Predictions: [15498.80820699 13634.56692837 13675.10736739 14422.16230125\n",
      " 15309.33017777]\n",
      "Labels: [13447, 13532, 11695, 14176, 14437]\n"
     ]
    }
   ],
   "source": [
    "# 在几个训练实例上应用完整的预处理\n",
    "some_data = housing.iloc[:5]    # 测试集\n",
    "some_labels = housing_labels.iloc[:5]    # 测试标签\n",
    "some_data_prepared = full_pipeline.transform(some_data)\n",
    "\n",
    "print(\"Predictions:\", lin_reg.predict(some_data_prepared))\n",
    "print(\"Labels:\", list(some_labels))"
   ]
  },
  {
   "cell_type": "code",
   "execution_count": 23,
   "metadata": {
    "ExecuteTime": {
     "end_time": "2021-06-02T12:39:11.610281Z",
     "start_time": "2021-06-02T12:39:11.591728Z"
    }
   },
   "outputs": [
    {
     "data": {
      "text/plain": [
       "2082.1340509050615"
      ]
     },
     "execution_count": 23,
     "metadata": {},
     "output_type": "execute_result"
    }
   ],
   "source": [
    "from sklearn.metrics import mean_squared_error\n",
    "\n",
    "housing_predictions = lin_reg.predict(housing_prepared)\n",
    "# 均方误差\n",
    "lin_mse = mean_squared_error(housing_labels, housing_predictions)\n",
    "# 均方根误差\n",
    "lin_rmse = np.sqrt(lin_mse)\n",
    "lin_rmse"
   ]
  },
  {
   "cell_type": "code",
   "execution_count": 24,
   "metadata": {
    "ExecuteTime": {
     "end_time": "2021-06-02T12:39:13.256590Z",
     "start_time": "2021-06-02T12:39:12.821798Z"
    }
   },
   "outputs": [
    {
     "data": {
      "text/plain": [
       "0.0"
      ]
     },
     "execution_count": 24,
     "metadata": {},
     "output_type": "execute_result"
    }
   ],
   "source": [
    "from sklearn.tree import DecisionTreeRegressor\n",
    "\n",
    "tree_reg = DecisionTreeRegressor(random_state=42)\n",
    "# 模型训练\n",
    "tree_reg.fit(housing_prepared, housing_labels)\n",
    "# 模型预测\n",
    "housing_predictions = tree_reg.predict(housing_prepared)\n",
    "# 均方误差\n",
    "tree_mse = mean_squared_error(housing_labels, housing_predictions)\n",
    "# 均方根误差\n",
    "tree_rmse = np.sqrt(tree_mse)\n",
    "tree_rmse"
   ]
  },
  {
   "cell_type": "markdown",
   "metadata": {},
   "source": [
    "### 7.2 使用交叉验证来更好地进行评估"
   ]
  },
  {
   "cell_type": "code",
   "execution_count": 25,
   "metadata": {
    "ExecuteTime": {
     "end_time": "2021-06-02T12:39:19.345628Z",
     "start_time": "2021-06-02T12:39:15.839980Z"
    }
   },
   "outputs": [
    {
     "name": "stdout",
     "output_type": "stream",
     "text": [
      "Scores: [2696.92465207 3090.82861484 3247.75706409 1932.67709068 2588.42584758\n",
      " 2103.57700371 1274.08706222 2982.53293732 2556.91863165 5565.71379569]\n",
      "Mean: 2803.9442699856218\n",
      "Standard deviation: 1079.2378878329357\n"
     ]
    }
   ],
   "source": [
    "from sklearn.model_selection import cross_val_score\n",
    "\n",
    "scores = cross_val_score(tree_reg, housing_prepared, housing_labels,\n",
    "                         scoring=\"neg_mean_squared_error\", cv=10)\n",
    "tree_rmse_scores = np.sqrt(-scores)\n",
    "\n",
    "def display_scores(temp_scores):\n",
    "    print(\"Scores:\", temp_scores)\n",
    "    print(\"Mean:\", temp_scores.mean())\n",
    "    print(\"Standard deviation:\", temp_scores.std())\n",
    "\n",
    "display_scores(tree_rmse_scores)"
   ]
  },
  {
   "cell_type": "code",
   "execution_count": 26,
   "metadata": {
    "ExecuteTime": {
     "end_time": "2021-06-02T12:39:40.607433Z",
     "start_time": "2021-06-02T12:39:40.445576Z"
    }
   },
   "outputs": [
    {
     "name": "stdout",
     "output_type": "stream",
     "text": [
      "Scores: [1312.5313069  3072.42301729 4186.64851997 1704.5192884  1630.29975465\n",
      " 1205.18531219 1544.34466809 1923.07478384 2265.5271937  2139.58510752]\n",
      "Mean: 2098.4138952566113\n",
      "Standard deviation: 864.0907711351614\n"
     ]
    }
   ],
   "source": [
    "lin_scores = cross_val_score(lin_reg, housing_prepared, housing_labels,\n",
    "                             scoring=\"neg_mean_squared_error\", cv=10)\n",
    "lin_rmse_scores = np.sqrt(-lin_scores)\n",
    "display_scores(lin_rmse_scores)"
   ]
  },
  {
   "cell_type": "code",
   "execution_count": 27,
   "metadata": {
    "ExecuteTime": {
     "end_time": "2021-06-02T12:40:05.418828Z",
     "start_time": "2021-06-02T12:39:41.871123Z"
    }
   },
   "outputs": [
    {
     "data": {
      "text/plain": [
       "824.4543285379244"
      ]
     },
     "execution_count": 27,
     "metadata": {},
     "output_type": "execute_result"
    }
   ],
   "source": [
    "from sklearn.ensemble import RandomForestRegressor\n",
    "\n",
    "forest_reg = RandomForestRegressor(n_estimators=100, random_state=42)\n",
    "forest_reg.fit(housing_prepared, housing_labels)\n",
    "\n",
    "housing_predictions = forest_reg.predict(housing_prepared)\n",
    "forest_mse = mean_squared_error(housing_labels, housing_predictions)\n",
    "forest_rmse = np.sqrt(forest_mse)\n",
    "forest_rmse"
   ]
  },
  {
   "cell_type": "code",
   "execution_count": 28,
   "metadata": {
    "ExecuteTime": {
     "end_time": "2021-06-02T12:44:13.684690Z",
     "start_time": "2021-06-02T12:40:46.378293Z"
    }
   },
   "outputs": [
    {
     "name": "stdout",
     "output_type": "stream",
     "text": [
      "Scores: [1768.77310903 2886.35364123 4025.7247725  1733.12822549 1877.73611522\n",
      " 1374.30447252 1429.98785785 2456.21214984 2106.50616852 3177.32250596]\n",
      "Mean: 2283.6049018153835\n",
      "Standard deviation: 809.1026642210363\n"
     ]
    }
   ],
   "source": [
    "from sklearn.model_selection import cross_val_score\n",
    "\n",
    "forest_scores = cross_val_score(forest_reg, housing_prepared, housing_labels,\n",
    "                                scoring=\"neg_mean_squared_error\", cv=10)\n",
    "forest_rmse_scores = np.sqrt(-forest_scores)\n",
    "display_scores(forest_rmse_scores)"
   ]
  },
  {
   "cell_type": "markdown",
   "metadata": {},
   "source": [
    "## 8. 微调模型\n",
    "### 8.1 网格搜索"
   ]
  },
  {
   "cell_type": "code",
   "execution_count": 29,
   "metadata": {
    "ExecuteTime": {
     "end_time": "2021-06-02T12:47:01.242356Z",
     "start_time": "2021-06-02T12:45:36.048477Z"
    }
   },
   "outputs": [
    {
     "data": {
      "text/plain": [
       "GridSearchCV(cv=5, estimator=RandomForestRegressor(random_state=42),\n",
       "             param_grid=[{'max_features': [2, 4, 6, 8],\n",
       "                          'n_estimators': [3, 10, 30]},\n",
       "                         {'bootstrap': [False], 'max_features': [2, 3, 4],\n",
       "                          'n_estimators': [3, 10]}],\n",
       "             return_train_score=True, scoring='neg_mean_squared_error')"
      ]
     },
     "execution_count": 29,
     "metadata": {},
     "output_type": "execute_result"
    }
   ],
   "source": [
    "from sklearn.model_selection import GridSearchCV\n",
    "\n",
    "param_grid = [\n",
    "    # 尝试3×4=12种超参数组合\n",
    "    {'n_estimators': [3, 10, 30], 'max_features': [2, 4, 6, 8]},\n",
    "    # 之后设置bootstrap=False，再尝试2×3=6种超参数组合\n",
    "    {'bootstrap': [False], 'n_estimators': [3, 10], 'max_features': [2, 3, 4]},\n",
    "  ]\n",
    "\n",
    "forest_reg = RandomForestRegressor(random_state=42)\n",
    "# 训练5次，总共（12+6）×5=90次\n",
    "grid_search = GridSearchCV(forest_reg, param_grid, cv=5,\n",
    "                           scoring='neg_mean_squared_error',\n",
    "                           return_train_score=True)\n",
    "grid_search.fit(housing_prepared, housing_labels)"
   ]
  },
  {
   "cell_type": "code",
   "execution_count": 30,
   "metadata": {
    "ExecuteTime": {
     "end_time": "2021-06-02T12:47:09.597475Z",
     "start_time": "2021-06-02T12:47:09.577290Z"
    }
   },
   "outputs": [
    {
     "data": {
      "text/plain": [
       "{'bootstrap': False, 'max_features': 4, 'n_estimators': 3}"
      ]
     },
     "execution_count": 30,
     "metadata": {},
     "output_type": "execute_result"
    }
   ],
   "source": [
    "grid_search.best_params_"
   ]
  },
  {
   "cell_type": "code",
   "execution_count": 31,
   "metadata": {
    "ExecuteTime": {
     "end_time": "2021-06-02T12:53:40.623978Z",
     "start_time": "2021-06-02T12:47:10.917328Z"
    }
   },
   "outputs": [
    {
     "data": {
      "text/plain": [
       "{'max_features': 9, 'n_estimators': 30}"
      ]
     },
     "execution_count": 31,
     "metadata": {},
     "output_type": "execute_result"
    }
   ],
   "source": [
    "param_grid = [\n",
    "    {'n_estimators': [30, 50, 70, 90], 'max_features': [7, 8, 9]},\n",
    "  ]\n",
    "grid_search = GridSearchCV(forest_reg, param_grid, cv=5,\n",
    "                           scoring='neg_mean_squared_error',\n",
    "                           return_train_score=True)\n",
    "grid_search.fit(housing_prepared, housing_labels)\n",
    "grid_search.best_params_"
   ]
  },
  {
   "cell_type": "code",
   "execution_count": 32,
   "metadata": {
    "ExecuteTime": {
     "end_time": "2021-06-02T12:54:41.794306Z",
     "start_time": "2021-06-02T12:54:41.784297Z"
    }
   },
   "outputs": [
    {
     "data": {
      "text/plain": [
       "RandomForestRegressor(max_features=9, n_estimators=30, random_state=42)"
      ]
     },
     "execution_count": 32,
     "metadata": {},
     "output_type": "execute_result"
    }
   ],
   "source": [
    "grid_search.best_estimator_"
   ]
  },
  {
   "cell_type": "code",
   "execution_count": 33,
   "metadata": {
    "ExecuteTime": {
     "end_time": "2021-06-02T12:54:42.954575Z",
     "start_time": "2021-06-02T12:54:42.940612Z"
    }
   },
   "outputs": [
    {
     "name": "stdout",
     "output_type": "stream",
     "text": [
      "2332.1485637637466 {'max_features': 7, 'n_estimators': 30}\n",
      "2342.1291544715837 {'max_features': 7, 'n_estimators': 50}\n",
      "2368.9976730364697 {'max_features': 7, 'n_estimators': 70}\n",
      "2372.9458698833278 {'max_features': 7, 'n_estimators': 90}\n",
      "2324.264881857529 {'max_features': 8, 'n_estimators': 30}\n",
      "2346.2172646069193 {'max_features': 8, 'n_estimators': 50}\n",
      "2377.218058058912 {'max_features': 8, 'n_estimators': 70}\n",
      "2370.1128525633153 {'max_features': 8, 'n_estimators': 90}\n",
      "2293.3104758963996 {'max_features': 9, 'n_estimators': 30}\n",
      "2306.1898565866018 {'max_features': 9, 'n_estimators': 50}\n",
      "2333.5564182907556 {'max_features': 9, 'n_estimators': 70}\n",
      "2352.1435040466285 {'max_features': 9, 'n_estimators': 90}\n"
     ]
    }
   ],
   "source": [
    "cvres = grid_search.cv_results_\n",
    "for mean_score, params in zip(cvres[\"mean_test_score\"], cvres[\"params\"]):\n",
    "    print(np.sqrt(-mean_score), params)"
   ]
  },
  {
   "cell_type": "markdown",
   "metadata": {},
   "source": [
    "### 8.2 随机搜索"
   ]
  },
  {
   "cell_type": "code",
   "execution_count": 34,
   "metadata": {
    "ExecuteTime": {
     "end_time": "2021-06-02T13:02:19.620900Z",
     "start_time": "2021-06-02T12:54:45.915093Z"
    }
   },
   "outputs": [
    {
     "data": {
      "text/plain": [
       "RandomizedSearchCV(cv=5, estimator=RandomForestRegressor(random_state=42),\n",
       "                   param_distributions={'max_features': <scipy.stats._distn_infrastructure.rv_frozen object at 0x0000028025348A00>,\n",
       "                                        'n_estimators': <scipy.stats._distn_infrastructure.rv_frozen object at 0x0000028025348E20>},\n",
       "                   random_state=42, scoring='neg_mean_squared_error')"
      ]
     },
     "execution_count": 34,
     "metadata": {},
     "output_type": "execute_result"
    }
   ],
   "source": [
    "from sklearn.model_selection import RandomizedSearchCV\n",
    "from scipy.stats import randint\n",
    "\n",
    "\n",
    "param_distribs = {\n",
    "        # 均匀离散随机变量\n",
    "        'n_estimators': randint(low=1, high=200),\n",
    "        'max_features': randint(low=7, high=9),\n",
    "    }\n",
    "\n",
    "forest_reg = RandomForestRegressor(random_state=42)\n",
    "rnd_search = RandomizedSearchCV(forest_reg, param_distributions=param_distribs,\n",
    "                                n_iter=10, cv=5, scoring='neg_mean_squared_error', random_state=42)\n",
    "rnd_search.fit(housing_prepared, housing_labels)"
   ]
  },
  {
   "cell_type": "code",
   "execution_count": 35,
   "metadata": {
    "ExecuteTime": {
     "end_time": "2021-06-02T13:03:25.302259Z",
     "start_time": "2021-06-02T13:03:25.282261Z"
    }
   },
   "outputs": [
    {
     "name": "stdout",
     "output_type": "stream",
     "text": [
      "2337.412013932236 {'max_features': 7, 'n_estimators': 180}\n",
      "2360.251209549564 {'max_features': 7, 'n_estimators': 15}\n",
      "2376.037667737318 {'max_features': 7, 'n_estimators': 72}\n",
      "2303.345674824504 {'max_features': 7, 'n_estimators': 21}\n",
      "2364.2066105947038 {'max_features': 7, 'n_estimators': 122}\n",
      "2380.5766232411556 {'max_features': 7, 'n_estimators': 75}\n",
      "2379.342679118329 {'max_features': 7, 'n_estimators': 88}\n",
      "2375.6879969229185 {'max_features': 7, 'n_estimators': 100}\n",
      "2351.652921050932 {'max_features': 8, 'n_estimators': 152}\n",
      "2349.14487007899 {'max_features': 7, 'n_estimators': 150}\n"
     ]
    }
   ],
   "source": [
    "cvres = rnd_search.cv_results_\n",
    "for mean_score, params in zip(cvres[\"mean_test_score\"], cvres[\"params\"]):\n",
    "    print(np.sqrt(-mean_score), params)"
   ]
  },
  {
   "cell_type": "markdown",
   "metadata": {},
   "source": [
    "### 8.3 分析最佳模型及其误差"
   ]
  },
  {
   "cell_type": "code",
   "execution_count": 36,
   "metadata": {
    "ExecuteTime": {
     "end_time": "2021-06-02T13:03:27.179602Z",
     "start_time": "2021-06-02T13:03:27.127478Z"
    }
   },
   "outputs": [
    {
     "data": {
      "text/plain": [
       "array([0.01481082, 0.16738452, 0.16858267, 0.01739427, 0.06390065,\n",
       "       0.00097824, 0.00253843, 0.15253491, 0.15373185, 0.20635508,\n",
       "       0.02407563, 0.00444491, 0.02326803])"
      ]
     },
     "execution_count": 36,
     "metadata": {},
     "output_type": "execute_result"
    }
   ],
   "source": [
    "feature_importances = grid_search.best_estimator_.feature_importances_\n",
    "feature_importances"
   ]
  },
  {
   "cell_type": "code",
   "execution_count": 37,
   "metadata": {
    "ExecuteTime": {
     "end_time": "2021-06-02T13:03:28.538363Z",
     "start_time": "2021-06-02T13:03:28.524322Z"
    }
   },
   "outputs": [
    {
     "data": {
      "text/plain": [
       "[(0.20635507666512087, 'bedrooms_per_room'),\n",
       " (0.16858266857115775, 'area'),\n",
       " (0.16738451709994648, 'age'),\n",
       " (0.15373185115009866, 'pop_per_hhold'),\n",
       " (0.152534912724574, 'rooms_per_hhold'),\n",
       " (0.06390064616694141, 'subway'),\n",
       " (0.024075629646617237, '<1H OCEAN'),\n",
       " (0.02326802659750273, 'NEAR BAY'),\n",
       " (0.017394269957458144, 'mortgage'),\n",
       " (0.014810823092284564, 'side'),\n",
       " (0.004444910218188754, 'INLAND'),\n",
       " (0.0025384282721995625, 'school'),\n",
       " (0.0009782398379098302, 'hospital')]"
      ]
     },
     "execution_count": 37,
     "metadata": {},
     "output_type": "execute_result"
    }
   ],
   "source": [
    "extra_attribs = [\"rooms_per_hhold\", \"pop_per_hhold\", \"bedrooms_per_room\"]\n",
    "# cat_encoder: OneHotEncoder()\n",
    "cat_encoder = full_pipeline.named_transformers_[\"cat\"]\n",
    "# cat_one_hot_attribs: ['<1H OCEAN', 'INLAND', 'ISLAND', 'NEAR BAY', 'NEAR OCEAN']\n",
    "cat_one_hot_attribs = list(cat_encoder.categories_[0])\n",
    "attributes = num_attribs + extra_attribs + cat_one_hot_attribs\n",
    "sorted(zip(feature_importances, attributes), reverse=True)"
   ]
  },
  {
   "cell_type": "markdown",
   "metadata": {},
   "source": [
    "### 8.4 通过测试集评估系统"
   ]
  },
  {
   "cell_type": "code",
   "execution_count": 38,
   "metadata": {
    "ExecuteTime": {
     "end_time": "2021-06-02T13:03:30.705761Z",
     "start_time": "2021-06-02T13:03:30.542240Z"
    }
   },
   "outputs": [
    {
     "data": {
      "text/plain": [
       "2659.989329317014"
      ]
     },
     "execution_count": 38,
     "metadata": {},
     "output_type": "execute_result"
    }
   ],
   "source": [
    "final_model = grid_search.best_estimator_\n",
    "\n",
    "X_test = strat_test_set.drop(\"price\", axis=1)\n",
    "y_test = strat_test_set[\"price\"].copy()\n",
    "\n",
    "# 数据处理\n",
    "X_test_prepared = full_pipeline.transform(X_test)\n",
    "# 模型预测\n",
    "final_predictions = final_model.predict(X_test_prepared)\n",
    "\n",
    "final_mse = mean_squared_error(y_test, final_predictions)\n",
    "final_rmse = np.sqrt(final_mse)\n",
    "final_rmse"
   ]
  },
  {
   "cell_type": "code",
   "execution_count": 39,
   "metadata": {
    "ExecuteTime": {
     "end_time": "2021-06-02T13:03:32.294118Z",
     "start_time": "2021-06-02T13:03:31.844208Z"
    }
   },
   "outputs": [
    {
     "data": {
      "text/plain": [
       "array([1303.50753617, 3528.73271407])"
      ]
     },
     "execution_count": 39,
     "metadata": {},
     "output_type": "execute_result"
    }
   ],
   "source": [
    "from scipy import stats\n",
    "\n",
    "confidence = 0.95\n",
    "squared_errors = (final_predictions - y_test) ** 2\n",
    "np.sqrt(stats.t.interval(confidence, len(squared_errors) - 1,\n",
    "                         loc=squared_errors.mean(),\n",
    "                         scale=stats.sem(squared_errors)))"
   ]
  },
  {
   "cell_type": "code",
   "execution_count": 51,
   "metadata": {},
   "outputs": [
    {
     "data": {
      "text/plain": [
       "15192.266666666666"
      ]
     },
     "execution_count": 51,
     "metadata": {},
     "output_type": "execute_result"
    }
   ],
   "source": [
    "side = 0\n",
    "age = 2010\n",
    "area = 59.19\n",
    "mortgage = 1\n",
    "subway = 1\n",
    "hospital = 1\n",
    "school = 1\n",
    "ocean_proximity = 'NEAR BAY'\n",
    "final_pre = {'side':side,'age':age,'area':area,'mortgage':mortgage,'subway':subway,'hospital':hospital,'school':school,\n",
    "             'ocean_proximity':ocean_proximity}\n",
    "final_pre = pd.DataFrame(final_pre,index=[0])\n",
    "X_test_prepared = full_pipeline.transform(final_pre)\n",
    "final_predictions = final_model.predict(X_test_prepared)\n",
    "final_predictions[0]"
   ]
  }
 ],
 "metadata": {
  "kernelspec": {
   "display_name": "Python 3 (ipykernel)",
   "language": "python",
   "name": "python3"
  },
  "language_info": {
   "codemirror_mode": {
    "name": "ipython",
    "version": 3
   },
   "file_extension": ".py",
   "mimetype": "text/x-python",
   "name": "python",
   "nbconvert_exporter": "python",
   "pygments_lexer": "ipython3",
   "version": "3.9.9"
  }
 },
 "nbformat": 4,
 "nbformat_minor": 4
}
